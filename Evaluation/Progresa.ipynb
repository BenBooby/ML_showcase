{
 "cells": [
  {
   "cell_type": "markdown",
   "metadata": {},
   "source": [
    "# Problem Set 2"
   ]
  },
  {
   "cell_type": "markdown",
   "metadata": {},
   "source": [
    "## Introduction to the assignment\n",
    "\n",
    "For this assignment, you will be using data from the [Progresa program](http://en.wikipedia.org/wiki/Oportunidades), a government social assistance program in Mexico. This program, as well as the details of its impact, are described in the paper \"[School subsidies for the poor: evaluating the Mexican Progresa poverty program](http://www.sciencedirect.com/science/article/pii/S0304387803001858)\", by Paul Shultz (available on bCourses). Please familiarize yourself with the PROGRESA program before beginning this problem set, so you have a rough sense of where the data come from and how they were generated. If you just proceed into the problem set without understanding Progresa or the data, it will be very difficult!\n",
    "\n",
    "The goal of this problem set is to implement some of the basic econometric techniques that you are learning in class to measure the impact of Progresa on secondary school enrollment rates. The timeline of the program was:\n",
    "\n",
    " * Baseline survey conducted in 1997\n",
    " * Intervention begins in 1998, \"Wave 1\" of surveys conducted in 1998\n",
    " * \"Wave 2\" of surveys conducted in 1999\n",
    " * Evaluation ends in 2000, at which point the control villages were treated. \n",
    " \n",
    "When you are ready, download the progresa_sample.csv data from bCourses. The data are actual data collected to evaluate the impact of the Progresa program.  In this file, each row corresponds to an observation taken for a given child for a given year. There are two years of data (1997 and 1998), and just under 40,000 children who are surveyed in each year. For each child-year observation, the following variables are collected:\n",
    "\n",
    "| Variable name | Description|\n",
    "|------|------|\n",
    "|year\t  |year in which data is collected\n",
    "|sex\t  |male = 1|\n",
    "|indig\t  |indigenous = 1|\n",
    "|dist_sec |nearest distance to a secondary school|\n",
    "|sc\t      |enrolled in school in year of survey|\n",
    "|grc      |grade enrolled|\n",
    "|fam_n    |family size|\n",
    "|min_dist |\tmin distance to an urban center|\n",
    "|dist_cap |\tmin distance to the capital|\n",
    "|poor     |\tpoor = 1|\n",
    "|progresa |treatment =1|\n",
    "|hohedu\t  |years of schooling of head of household|\n",
    "|hohwag\t  |monthly wages of head of household|\n",
    "|welfare_index|\twelfare index used to classify poor|\n",
    "|hohsex\t|gender of head of household (male=1)|\n",
    "|hohage\t|age of head of household|\n",
    "|age\t|years old|\n",
    "|folnum\t|individual id|\n",
    "|village|\tvillage id|\n",
    "|sc97\t|schooling in 1997|\n",
    "|grc97  |grade enrolled in 1997"
   ]
  },
  {
   "cell_type": "markdown",
   "metadata": {},
   "source": [
    "---\n",
    "\n",
    "## Part 1: Descriptive analysis\n",
    "\n",
    "### 1.1\tSummary Statistics\n",
    "\n",
    "Present summary statistics (mean, median and standard deviation) for all of the demographic variables in the dataset (i.e., everything except year, folnum, village). Present these in a single table alphabetized by variable name. Do NOT simply expect the grader to scroll through your output!\n",
    "\n",
    "*Note:* For this and subsequent problems, you will need to be careful in how you deal with missing (NULL) values. You should not blindly drop rows and columns where any data field is missing.  For instance, in calculating the average `hohwag`, you should average the `hohwag` values from all households that report a value (even if the household does not have a recorded `age` value, for example). "
   ]
  },
  {
   "cell_type": "code",
   "execution_count": 116,
   "metadata": {
    "collapsed": true,
    "jupyter": {
     "outputs_hidden": true
    }
   },
   "outputs": [],
   "source": [
    "# your code here\n",
    "import numpy as np\n",
    "import pandas as pd\n",
    "import scipy \n",
    "import matplotlib.pyplot as plt\n",
    "import seaborn as sns\n",
    "import statsmodels.api as sm\n",
    "\n",
    "df = pd.read_csv('progresa_sample.csv')\n",
    "\n",
    "df['poor'] = df['poor'].map({'pobre': 1, 'no pobre': 0})\n",
    "df['progresa'] = df['progresa'].map({'0': 0, 'basal': 1})"
   ]
  },
  {
   "cell_type": "code",
   "execution_count": 117,
   "metadata": {},
   "outputs": [],
   "source": [
    "demo = df.drop(axis= 1, columns = ['year','folnum', 'village'])\n",
    "cols = demo.columns.sort_values(ascending= True)\n",
    "demo = demo[cols]"
   ]
  },
  {
   "cell_type": "code",
   "execution_count": 118,
   "metadata": {},
   "outputs": [
    {
     "name": "stdout",
     "output_type": "stream",
     "text": [
      "dtype of year is <class 'numpy.int64'>. Missing 0 values.\n",
      "dtype of sex is <class 'numpy.float64'>. Missing 24 values.\n",
      "dtype of indig is <class 'numpy.float64'>. Missing 300 values.\n",
      "dtype of dist_sec is <class 'numpy.float64'>. Missing 0 values.\n",
      "dtype of sc is <class 'numpy.float64'>. Missing 8453 values.\n",
      "dtype of grc is <class 'numpy.float64'>. Missing 6549 values.\n",
      "dtype of fam_n is <class 'numpy.int64'>. Missing 0 values.\n",
      "dtype of min_dist is <class 'numpy.float64'>. Missing 0 values.\n",
      "dtype of dist_cap is <class 'numpy.float64'>. Missing 0 values.\n",
      "dtype of poor is <class 'numpy.int64'>. Missing 0 values.\n",
      "dtype of progresa is <class 'numpy.int64'>. Missing 0 values.\n",
      "dtype of hohedu is <class 'numpy.int64'>. Missing 0 values.\n",
      "dtype of hohwag is <class 'numpy.float64'>. Missing 0 values.\n",
      "dtype of welfare_index is <class 'numpy.float64'>. Missing 210 values.\n",
      "dtype of hohsex is <class 'numpy.float64'>. Missing 20 values.\n",
      "dtype of hohage is <class 'numpy.float64'>. Missing 10 values.\n",
      "dtype of age is <class 'numpy.int64'>. Missing 0 values.\n",
      "dtype of village is <class 'numpy.int64'>. Missing 0 values.\n",
      "dtype of folnum is <class 'numpy.int64'>. Missing 0 values.\n",
      "dtype of grc97 is <class 'numpy.int64'>. Missing 0 values.\n",
      "dtype of sc97 is <class 'numpy.float64'>. Missing 3872 values.\n"
     ]
    }
   ],
   "source": [
    "#Check Null values.\n",
    "for col in df.columns:\n",
    "    print(f'dtype of {col} is {type(df[col][0])}. Missing {df[col].isnull().sum()} values.')"
   ]
  },
  {
   "cell_type": "code",
   "execution_count": 119,
   "metadata": {},
   "outputs": [
    {
     "data": {
      "text/html": [
       "<div>\n",
       "<style scoped>\n",
       "    .dataframe tbody tr th:only-of-type {\n",
       "        vertical-align: middle;\n",
       "    }\n",
       "\n",
       "    .dataframe tbody tr th {\n",
       "        vertical-align: top;\n",
       "    }\n",
       "\n",
       "    .dataframe thead th {\n",
       "        text-align: right;\n",
       "    }\n",
       "</style>\n",
       "<table border=\"1\" class=\"dataframe\">\n",
       "  <thead>\n",
       "    <tr style=\"text-align: right;\">\n",
       "      <th></th>\n",
       "      <th>age</th>\n",
       "      <th>dist_cap</th>\n",
       "      <th>dist_sec</th>\n",
       "      <th>fam_n</th>\n",
       "      <th>grc</th>\n",
       "      <th>grc97</th>\n",
       "      <th>hohage</th>\n",
       "      <th>hohedu</th>\n",
       "      <th>hohsex</th>\n",
       "      <th>hohwag</th>\n",
       "      <th>indig</th>\n",
       "      <th>min_dist</th>\n",
       "      <th>poor</th>\n",
       "      <th>progresa</th>\n",
       "      <th>sc</th>\n",
       "      <th>sc97</th>\n",
       "      <th>sex</th>\n",
       "      <th>welfare_index</th>\n",
       "    </tr>\n",
       "  </thead>\n",
       "  <tbody>\n",
       "    <tr>\n",
       "      <th>mean</th>\n",
       "      <td>11.366460</td>\n",
       "      <td>147.674452</td>\n",
       "      <td>2.418910</td>\n",
       "      <td>7.215715</td>\n",
       "      <td>3.963537</td>\n",
       "      <td>3.705372</td>\n",
       "      <td>44.436717</td>\n",
       "      <td>2.768104</td>\n",
       "      <td>0.925185</td>\n",
       "      <td>586.985312</td>\n",
       "      <td>0.298324</td>\n",
       "      <td>103.447520</td>\n",
       "      <td>0.846498</td>\n",
       "      <td>0.615663</td>\n",
       "      <td>0.819818</td>\n",
       "      <td>0.813922</td>\n",
       "      <td>0.512211</td>\n",
       "      <td>690.346564</td>\n",
       "    </tr>\n",
       "    <tr>\n",
       "      <th>std</th>\n",
       "      <td>3.167744</td>\n",
       "      <td>76.063134</td>\n",
       "      <td>2.234109</td>\n",
       "      <td>2.352900</td>\n",
       "      <td>2.499063</td>\n",
       "      <td>2.572387</td>\n",
       "      <td>11.620372</td>\n",
       "      <td>2.656106</td>\n",
       "      <td>0.263095</td>\n",
       "      <td>788.133664</td>\n",
       "      <td>0.457525</td>\n",
       "      <td>42.089441</td>\n",
       "      <td>0.360473</td>\n",
       "      <td>0.486441</td>\n",
       "      <td>0.384342</td>\n",
       "      <td>0.389172</td>\n",
       "      <td>0.499854</td>\n",
       "      <td>139.491130</td>\n",
       "    </tr>\n",
       "    <tr>\n",
       "      <th>median</th>\n",
       "      <td>11.000000</td>\n",
       "      <td>132.001494</td>\n",
       "      <td>2.279000</td>\n",
       "      <td>7.000000</td>\n",
       "      <td>4.000000</td>\n",
       "      <td>4.000000</td>\n",
       "      <td>43.000000</td>\n",
       "      <td>2.000000</td>\n",
       "      <td>1.000000</td>\n",
       "      <td>500.000000</td>\n",
       "      <td>0.000000</td>\n",
       "      <td>111.228612</td>\n",
       "      <td>1.000000</td>\n",
       "      <td>1.000000</td>\n",
       "      <td>1.000000</td>\n",
       "      <td>1.000000</td>\n",
       "      <td>1.000000</td>\n",
       "      <td>685.000000</td>\n",
       "    </tr>\n",
       "  </tbody>\n",
       "</table>\n",
       "</div>"
      ],
      "text/plain": [
       "              age    dist_cap  dist_sec     fam_n       grc     grc97  \\\n",
       "mean    11.366460  147.674452  2.418910  7.215715  3.963537  3.705372   \n",
       "std      3.167744   76.063134  2.234109  2.352900  2.499063  2.572387   \n",
       "median  11.000000  132.001494  2.279000  7.000000  4.000000  4.000000   \n",
       "\n",
       "           hohage    hohedu    hohsex      hohwag     indig    min_dist  \\\n",
       "mean    44.436717  2.768104  0.925185  586.985312  0.298324  103.447520   \n",
       "std     11.620372  2.656106  0.263095  788.133664  0.457525   42.089441   \n",
       "median  43.000000  2.000000  1.000000  500.000000  0.000000  111.228612   \n",
       "\n",
       "            poor  progresa        sc      sc97       sex  welfare_index  \n",
       "mean    0.846498  0.615663  0.819818  0.813922  0.512211     690.346564  \n",
       "std     0.360473  0.486441  0.384342  0.389172  0.499854     139.491130  \n",
       "median  1.000000  1.000000  1.000000  1.000000  1.000000     685.000000  "
      ]
     },
     "execution_count": 119,
     "metadata": {},
     "output_type": "execute_result"
    }
   ],
   "source": [
    "#1.1 Answer\n",
    "mean = []\n",
    "std = []\n",
    "median = []\n",
    "\n",
    "for col in cols:\n",
    "    mean.append(demo[col].mean())\n",
    "    std.append(demo[col].std())\n",
    "    median.append(demo[col].median())\n",
    "    \n",
    "summ = pd.DataFrame([mean, std, median], columns = cols, index = ['mean', 'std', 'median'])\n",
    "summ"
   ]
  },
  {
   "cell_type": "markdown",
   "metadata": {},
   "source": [
    "### 1.2 Differences at baseline?\n",
    "\n",
    "Are the baseline (1997) demographic characteristics **for the poor**  different in treatment and control villages?  Present your results in a single table with the following columns and 14 (or so) rows (alphabetized by variable name):\n",
    "\n",
    "\n",
    "| Variable name | Average value (Treatment villages) | Average value (Control villages) | Difference (Treat - Control) | p-value |\n",
    "|------|------|------|------|------|\n",
    "|Male|?|?|?|?|\n",
    "\n",
    " *Hint:* Use a T-Test to determine whether there is a statistically significant difference in the average values of each of the variables in the dataset. Focus only on the data from 1997 from poor households (i.e., poor=='pobre').\n",
    "\n"
   ]
  },
  {
   "cell_type": "code",
   "execution_count": 120,
   "metadata": {
    "collapsed": true,
    "jupyter": {
     "outputs_hidden": true
    }
   },
   "outputs": [],
   "source": [
    "# your code here\n",
    "variables = ['age', 'dist_cap', 'dist_sec', 'fam_n', 'grc97', 'hohage', 'hohedu', 'hohsex', 'hohwag', 'indig','progresa', 'min_dist','sc97', 'sex', 'welfare_index']\n",
    "\n",
    "base = df[(df['year'] == 97) &  (df['poor'] == 1)][variables].groupby(by = 'progresa').mean().transpose()\n",
    "base['diff'] = base[1] - base[0]\n",
    "\n",
    "#Then, how about p-value? (want to have more than 0.05)"
   ]
  },
  {
   "cell_type": "code",
   "execution_count": 121,
   "metadata": {},
   "outputs": [],
   "source": [
    "p_values = []\n",
    "#dropped 'progresa'\n",
    "vals = ['age', 'dist_cap', 'dist_sec', 'fam_n', 'grc97', 'hohage', 'hohedu', 'hohsex', 'hohwag', 'indig', 'min_dist','sc97', 'sex', 'welfare_index']\n",
    "for val in vals:\n",
    "    p_values.append(round(\n",
    "        scipy.stats.ttest_ind(\n",
    "            a = df[(df['year'] == 97) & (df['poor'] == 1) & (df['progresa'] == 1)][val],\n",
    "            b = df[(df['year'] == 97) & (df['poor'] == 1) & (df['progresa'] == 0)][val],\n",
    "            equal_var = False, #I chose to do Welch's t-test, meaning do not assume that these two samples have the same variance.\n",
    "            nan_policy = 'omit' #ignore null and compute\n",
    "        )[1],4)\n",
    "    )\n"
   ]
  },
  {
   "cell_type": "code",
   "execution_count": 122,
   "metadata": {},
   "outputs": [
    {
     "data": {
      "text/html": [
       "<div>\n",
       "<style scoped>\n",
       "    .dataframe tbody tr th:only-of-type {\n",
       "        vertical-align: middle;\n",
       "    }\n",
       "\n",
       "    .dataframe tbody tr th {\n",
       "        vertical-align: top;\n",
       "    }\n",
       "\n",
       "    .dataframe thead th {\n",
       "        text-align: right;\n",
       "    }\n",
       "</style>\n",
       "<table border=\"1\" class=\"dataframe\">\n",
       "  <thead>\n",
       "    <tr style=\"text-align: right;\">\n",
       "      <th>progresa</th>\n",
       "      <th>1</th>\n",
       "      <th>0</th>\n",
       "      <th>diff</th>\n",
       "      <th>p-value</th>\n",
       "    </tr>\n",
       "  </thead>\n",
       "  <tbody>\n",
       "    <tr>\n",
       "      <th>age</th>\n",
       "      <td>10.716991</td>\n",
       "      <td>10.742023</td>\n",
       "      <td>-0.025032</td>\n",
       "      <td>0.4784</td>\n",
       "    </tr>\n",
       "    <tr>\n",
       "      <th>dist_cap</th>\n",
       "      <td>150.829074</td>\n",
       "      <td>153.769730</td>\n",
       "      <td>-2.940656</td>\n",
       "      <td>0.0011</td>\n",
       "    </tr>\n",
       "    <tr>\n",
       "      <th>dist_sec</th>\n",
       "      <td>2.453122</td>\n",
       "      <td>2.507662</td>\n",
       "      <td>-0.054540</td>\n",
       "      <td>0.0427</td>\n",
       "    </tr>\n",
       "    <tr>\n",
       "      <th>fam_n</th>\n",
       "      <td>7.281327</td>\n",
       "      <td>7.302469</td>\n",
       "      <td>-0.021142</td>\n",
       "      <td>0.4290</td>\n",
       "    </tr>\n",
       "    <tr>\n",
       "      <th>grc97</th>\n",
       "      <td>3.531599</td>\n",
       "      <td>3.543050</td>\n",
       "      <td>-0.011450</td>\n",
       "      <td>0.6895</td>\n",
       "    </tr>\n",
       "    <tr>\n",
       "      <th>hohage</th>\n",
       "      <td>43.648828</td>\n",
       "      <td>44.276918</td>\n",
       "      <td>-0.628090</td>\n",
       "      <td>0.0000</td>\n",
       "    </tr>\n",
       "    <tr>\n",
       "      <th>hohedu</th>\n",
       "      <td>2.663139</td>\n",
       "      <td>2.590348</td>\n",
       "      <td>0.072791</td>\n",
       "      <td>0.0104</td>\n",
       "    </tr>\n",
       "    <tr>\n",
       "      <th>hohsex</th>\n",
       "      <td>0.924656</td>\n",
       "      <td>0.922947</td>\n",
       "      <td>0.001709</td>\n",
       "      <td>0.5721</td>\n",
       "    </tr>\n",
       "    <tr>\n",
       "      <th>hohwag</th>\n",
       "      <td>544.339544</td>\n",
       "      <td>573.163558</td>\n",
       "      <td>-28.824015</td>\n",
       "      <td>0.0003</td>\n",
       "    </tr>\n",
       "    <tr>\n",
       "      <th>indig</th>\n",
       "      <td>0.325986</td>\n",
       "      <td>0.332207</td>\n",
       "      <td>-0.006222</td>\n",
       "      <td>0.2459</td>\n",
       "    </tr>\n",
       "    <tr>\n",
       "      <th>min_dist</th>\n",
       "      <td>107.152915</td>\n",
       "      <td>103.237854</td>\n",
       "      <td>3.915060</td>\n",
       "      <td>0.0000</td>\n",
       "    </tr>\n",
       "    <tr>\n",
       "      <th>sc97</th>\n",
       "      <td>0.822697</td>\n",
       "      <td>0.815186</td>\n",
       "      <td>0.007511</td>\n",
       "      <td>0.0965</td>\n",
       "    </tr>\n",
       "    <tr>\n",
       "      <th>sex</th>\n",
       "      <td>0.519317</td>\n",
       "      <td>0.505052</td>\n",
       "      <td>0.014265</td>\n",
       "      <td>0.0122</td>\n",
       "    </tr>\n",
       "    <tr>\n",
       "      <th>welfare_index</th>\n",
       "      <td>655.428377</td>\n",
       "      <td>659.579100</td>\n",
       "      <td>-4.150723</td>\n",
       "      <td>0.0015</td>\n",
       "    </tr>\n",
       "  </tbody>\n",
       "</table>\n",
       "</div>"
      ],
      "text/plain": [
       "progresa                1           0       diff  p-value\n",
       "age             10.716991   10.742023  -0.025032   0.4784\n",
       "dist_cap       150.829074  153.769730  -2.940656   0.0011\n",
       "dist_sec         2.453122    2.507662  -0.054540   0.0427\n",
       "fam_n            7.281327    7.302469  -0.021142   0.4290\n",
       "grc97            3.531599    3.543050  -0.011450   0.6895\n",
       "hohage          43.648828   44.276918  -0.628090   0.0000\n",
       "hohedu           2.663139    2.590348   0.072791   0.0104\n",
       "hohsex           0.924656    0.922947   0.001709   0.5721\n",
       "hohwag         544.339544  573.163558 -28.824015   0.0003\n",
       "indig            0.325986    0.332207  -0.006222   0.2459\n",
       "min_dist       107.152915  103.237854   3.915060   0.0000\n",
       "sc97             0.822697    0.815186   0.007511   0.0965\n",
       "sex              0.519317    0.505052   0.014265   0.0122\n",
       "welfare_index  655.428377  659.579100  -4.150723   0.0015"
      ]
     },
     "execution_count": 122,
     "metadata": {},
     "output_type": "execute_result"
    }
   ],
   "source": [
    "base['p-value'] = np.array(p_values)\n",
    "base[[1,0,'diff','p-value']] #sort the columns as suggested"
   ]
  },
  {
   "cell_type": "markdown",
   "metadata": {},
   "source": [
    "### 1.3 Interpretation\n",
    "\n",
    "* A: Are there statistically significant differences between treatment and control villages at baseline? \n",
    "* B: Why does it matter if there are differences at baseline?\n",
    "* C: What does this imply about how to measure the impact of the treatment?"
   ]
  },
  {
   "cell_type": "markdown",
   "metadata": {},
   "source": [
    "**Discuss your results here**\n",
    "\n",
    "- A) According to the result of t-test, there are variables whose p-value is below 0.05. If we set our thresholds at 0.05, we can reject the hypothesis that these two sample groups have no stasitically significant difference. In other words, the selection of these two groups could be biased.\n",
    "- B) Since there could be statistically significant differences between these two groups, we can't use single difference between treatment and control, or pre-post comparison that require 0 difference at baseline.  \n",
    "- C) We need to choose the method that allows us to assume the difference in the treatment and control groups at baseline."
   ]
  },
  {
   "cell_type": "markdown",
   "metadata": {},
   "source": [
    "### 1.4 Graphical exploration, part 1\n",
    "\n",
    "Visualize the distribution of village enrollment rates **among poor households in treated villages**, before and after treatment. Specifically, for each village, calculate the average rate of enrollment of poor households in treated villages in 1997, then compute the average rate of enrollment of poor households in treated villages in 1998. Create two separate histograms showing the distribution of these average enrollments rates, one histogram for 1997 and one histogram for 1998. On each histogram, draw a vertical line that intersects the x-axis at the average value (across all households). Does there appear to be a difference? Is this difference statistically significant?"
   ]
  },
  {
   "cell_type": "code",
   "execution_count": 123,
   "metadata": {
    "collapsed": true,
    "jupyter": {
     "outputs_hidden": true
    }
   },
   "outputs": [
    {
     "data": {
      "text/plain": [
       "<matplotlib.lines.Line2D at 0x158def150>"
      ]
     },
     "execution_count": 123,
     "metadata": {},
     "output_type": "execute_result"
    },
    {
     "data": {
      "image/png": "[encoded data removed]",
      "text/plain": [
       "<Figure size 640x480 with 1 Axes>"
      ]
     },
     "metadata": {},
     "output_type": "display_data"
    }
   ],
   "source": [
    "# Your code here\n",
    "plt.hist(df[(df['year'] == 97) & (df['poor'] == 1) & (df['progresa'] == 1)].groupby(by = 'village').mean()['sc'], bins = 'auto', color = 'red')\n",
    "plt.axvline(df[(df['year'] == 97) & (df['poor'] == 1) & (df['progresa'] == 1)].groupby(by = 'village').mean()['sc'].mean(), color='k', linestyle='dashed', linewidth=1, label = 'mean')"
   ]
  },
  {
   "cell_type": "code",
   "execution_count": 124,
   "metadata": {},
   "outputs": [
    {
     "data": {
      "text/plain": [
       "<matplotlib.lines.Line2D at 0x156fe6410>"
      ]
     },
     "execution_count": 124,
     "metadata": {},
     "output_type": "execute_result"
    },
    {
     "data": {
      "image/png": "[encoded data removed]",
      "text/plain": [
       "<Figure size 640x480 with 1 Axes>"
      ]
     },
     "metadata": {},
     "output_type": "display_data"
    }
   ],
   "source": [
    "plt.hist(df[(df['year'] == 98) & (df['poor'] == 1) & (df['progresa'] == 1)].groupby(by = 'village').mean()['sc'], bins = 'auto', color = 'blue')\n",
    "plt.axvline(df[(df['year'] == 98) & (df['poor'] == 1) & (df['progresa'] == 1)].groupby(by = 'village').mean()['sc'].mean(), color='k', linestyle='dashed', linewidth=1, label = 'mean')"
   ]
  },
  {
   "cell_type": "code",
   "execution_count": 125,
   "metadata": {},
   "outputs": [
    {
     "data": {
      "text/plain": [
       "TtestResult(statistic=2.015713486515638, pvalue=0.044249343422588405, df=637.0225428028766)"
      ]
     },
     "execution_count": 125,
     "metadata": {},
     "output_type": "execute_result"
    }
   ],
   "source": [
    "p_val = scipy.stats.ttest_ind(\n",
    "    a = df[(df['year'] == 98) & (df['poor'] == 1) & (df['progresa'] == 1)].groupby(by = 'village').mean()['sc'],\n",
    "    b = df[(df['year'] == 97) & (df['poor'] == 1) & (df['progresa'] == 1)].groupby(by = 'village').mean()['sc'],\n",
    "    equal_var = False,\n",
    "    nan_policy = 'omit'\n",
    "    )\n",
    "p_val"
   ]
  },
  {
   "cell_type": "markdown",
   "metadata": {},
   "source": [
    "*Discuss your results here*"
   ]
  },
  {
   "cell_type": "markdown",
   "metadata": {},
   "source": [
    "- It seems that there's a difference between these two groups.\n",
    "- P_val = 0.044, so there could be a statistically significant difference between treatment group in 1997 and in 1998.  "
   ]
  },
  {
   "cell_type": "markdown",
   "metadata": {},
   "source": [
    "### 1.5 Graphical exploration, part 2\n",
    "\n",
    "Repeat the above exercise for poor households in **control villages**, before and after treatment. Do you observe a difference in enrollment in control villages between 1997 and 1998? How does what you observe here affect how you might approach measuring the impact of PROGRESA?"
   ]
  },
  {
   "cell_type": "code",
   "execution_count": 126,
   "metadata": {},
   "outputs": [
    {
     "data": {
      "text/plain": [
       "<matplotlib.lines.Line2D at 0x15ba934d0>"
      ]
     },
     "execution_count": 126,
     "metadata": {},
     "output_type": "execute_result"
    },
    {
     "data": {
      "image/png": "[encoded data removed]",
      "text/plain": [
       "<Figure size 640x480 with 1 Axes>"
      ]
     },
     "metadata": {},
     "output_type": "display_data"
    }
   ],
   "source": [
    "plt.hist(df[(df['year'] == 97) & (df['poor'] == 1) & (df['progresa'] == 0)].groupby(by = 'village').mean()['sc'], bins = 'auto',color = 'red')\n",
    "plt.axvline(df[(df['year'] == 97) & (df['poor'] == 1) & (df['progresa'] == 0)].groupby(by = 'village').mean()['sc'].mean(), color='k', linestyle='dashed', linewidth=1, label = 'mean')"
   ]
  },
  {
   "cell_type": "code",
   "execution_count": 127,
   "metadata": {
    "collapsed": true,
    "jupyter": {
     "outputs_hidden": true
    }
   },
   "outputs": [
    {
     "data": {
      "text/plain": [
       "<matplotlib.lines.Line2D at 0x15bbad450>"
      ]
     },
     "execution_count": 127,
     "metadata": {},
     "output_type": "execute_result"
    },
    {
     "data": {
      "image/png": "[encoded data removed]",
      "text/plain": [
       "<Figure size 640x480 with 1 Axes>"
      ]
     },
     "metadata": {},
     "output_type": "display_data"
    }
   ],
   "source": [
    "plt.hist(df[(df['year'] == 98) & (df['poor'] == 1) & (df['progresa'] == 0)].groupby(by = 'village').mean()['sc'],bins = 'auto', color = 'blue')\n",
    "plt.axvline(df[(df['year'] == 98) & (df['poor'] == 1) & (df['progresa'] == 0)].groupby(by = 'village').mean()['sc'].mean(), color='k', linestyle='dashed', linewidth=1, label = 'mean')"
   ]
  },
  {
   "cell_type": "code",
   "execution_count": 128,
   "metadata": {},
   "outputs": [
    {
     "data": {
      "text/plain": [
       "TtestResult(statistic=-0.7816669784862521, pvalue=0.43492278313218524, df=360.9135161300725)"
      ]
     },
     "execution_count": 128,
     "metadata": {},
     "output_type": "execute_result"
    }
   ],
   "source": [
    "p_val = scipy.stats.ttest_ind(\n",
    "    a = df[(df['year'] == 98) & (df['poor'] == 1) & (df['progresa'] == 0)].groupby(by = 'village').mean()['sc'],\n",
    "    b = df[(df['year'] == 97) & (df['poor'] == 1) & (df['progresa'] == 0)].groupby(by = 'village').mean()['sc'],\n",
    "    equal_var = False,\n",
    "    nan_policy = 'omit'\n",
    "    )\n",
    "p_val"
   ]
  },
  {
   "cell_type": "markdown",
   "metadata": {},
   "source": [
    "*Discuss your results here*\n",
    "- P-value is 0.43, so we can reject alternative hypothesis, indicating there's no significant difference between the enrollment rates in the control groups in 1997 and 1998.\n",
    "- From pre-T and post-T have significant difference in outcome, pre-C and post-C doesn't have difference, which implies that we can use double difference to estimate the causal effect.    "
   ]
  },
  {
   "cell_type": "markdown",
   "metadata": {},
   "source": [
    "## Part 2: Measuring Impact\n",
    "\n",
    "Our goal is to estimate the causal impact of the PROGRESA program on the social and economic outcomes of individuals in Mexico. We will focus on the impact of the program on school enrollment rates among the poor (those with poor=='pobre'), since only the poor were eligible to receive PROGRESA assistance, and since a primary objective of the program was to increase school enrollment.\n",
    "\n",
    "### 2.1 Simple differences: T-test\n",
    "\n",
    "Begin by estimating the impact of Progresa using \"simple differences.\" Restricting yourself to data from 1998 (after treatment), calculate the average enrollment rate among **poor** households in the Treatment villages and the average enrollment rate among **poor** households in the control villages. Use a t-test to determine if this difference is statistically significant. What do you conclude?"
   ]
  },
  {
   "cell_type": "code",
   "execution_count": 129,
   "metadata": {
    "collapsed": true,
    "jupyter": {
     "outputs_hidden": true
    }
   },
   "outputs": [
    {
     "name": "stdout",
     "output_type": "stream",
     "text": [
      "Average enrollment rate of the treatment group 0.8464791213954308\n",
      "Average enrollment rate of the control group is 0.807636956730308\n",
      "Difference is 0.0388421646651228\n",
      "P-value of the null hypothesis is 2.9655072988948406e-16\n"
     ]
    }
   ],
   "source": [
    "# Your code here\n",
    "ave_sc_t = df[(df['year'] == 98) & (df['poor'] == 1) & (df['progresa'] == 1)]['sc']\n",
    "ave_sc_c = df[(df['year'] == 98) & (df['poor'] == 1) & (df['progresa'] == 0)]['sc']\n",
    "\n",
    "p_val = scipy.stats.ttest_ind(a = ave_sc_t, b = ave_sc_c, equal_var= False, nan_policy='omit')[1]\n",
    "\n",
    "print(f'Average enrollment rate of the treatment group {ave_sc_t.mean()}'  )\n",
    "print(f'Average enrollment rate of the control group is {ave_sc_c.mean()}')\n",
    "print(f'Difference is {ave_sc_t.mean() - ave_sc_c.mean()}')\n",
    "print(f'P-value of the null hypothesis is {p_val}')"
   ]
  },
  {
   "cell_type": "markdown",
   "metadata": {},
   "source": [
    "*Discuss your results here*\n",
    "\n",
    "- p-value is nearly 0, way below 5%.\n",
    "- This simple difference implies that progresa had a causal impact to the average enrollment rate on the treatment villages. (3.88%)"
   ]
  },
  {
   "cell_type": "markdown",
   "metadata": {},
   "source": [
    "### 2.2 Simple differences: Regression\n",
    "\n",
    "Estimate the effects of Progresa on enrollment using a regression model, by regressing the 1998 enrollment rates **of the poor** on treatment assignment. For now, do not include any other variables in your regression. Discuss the following:\n",
    "\n",
    "* Based on this model, how much did Progresa increase or decrease the likelihood of a child enrolling? Make sure you express you answer in a sentence that a person with no technical background could understand, using appropriate units.\n",
    "* How does your regression estimate compare to your t-test estimate from part 2.1?\n",
    "* Based on this regression model, can we reject the null hypothesis that the treatment effects are zero? \n",
    "* What is the counterfactual assumption underlying this regression?"
   ]
  },
  {
   "cell_type": "code",
   "execution_count": 130,
   "metadata": {
    "collapsed": true,
    "jupyter": {
     "outputs_hidden": true
    }
   },
   "outputs": [
    {
     "name": "stdout",
     "output_type": "stream",
     "text": [
      "                            OLS Regression Results                            \n",
      "==============================================================================\n",
      "Dep. Variable:                     sc   R-squared:                       0.003\n",
      "Model:                            OLS   Adj. R-squared:                  0.003\n",
      "Method:                 Least Squares   F-statistic:                     69.87\n",
      "Date:                Sat, 03 Feb 2024   Prob (F-statistic):           6.64e-17\n",
      "Time:                        13:41:45   Log-Likelihood:                -11926.\n",
      "No. Observations:               27450   AIC:                         2.386e+04\n",
      "Df Residuals:                   27448   BIC:                         2.387e+04\n",
      "Df Model:                           1                                         \n",
      "Covariance Type:            nonrobust                                         \n",
      "==============================================================================\n",
      "                 coef    std err          t      P>|t|      [0.025      0.975]\n",
      "------------------------------------------------------------------------------\n",
      "const          0.8076      0.004    220.676      0.000       0.800       0.815\n",
      "progresa       0.0388      0.005      8.359      0.000       0.030       0.048\n",
      "==============================================================================\n",
      "Omnibus:                     7638.939   Durbin-Watson:                   1.734\n",
      "Prob(Omnibus):                  0.000   Jarque-Bera (JB):            15767.534\n",
      "Skew:                          -1.767   Prob(JB):                         0.00\n",
      "Kurtosis:                       4.140   Cond. No.                         3.01\n",
      "==============================================================================\n",
      "\n",
      "Notes:\n",
      "[1] Standard Errors assume that the covariance matrix of the errors is correctly specified.\n"
     ]
    }
   ],
   "source": [
    "# Your code here\n",
    "df_sc = df.dropna(axis = 0,subset = ['sc'])\n",
    "x = df_sc[(df_sc['year'] == 98) & (df_sc['poor'] == 1)]['progresa']\n",
    "y = df_sc[(df_sc['year'] == 98) & (df_sc['poor'] == 1)]['sc']\n",
    "x = sm.add_constant(x)\n",
    "model = sm.OLS(y,x).fit()\n",
    "print(model.summary())"
   ]
  },
  {
   "cell_type": "markdown",
   "metadata": {},
   "source": [
    "*Discuss your results here*\n",
    "\n",
    "- The coefficient of treatment is 0.0388, this implies that if one poor household receives progresa treatment, then their likelihood of school enrollment will increse by 3.88%.\n",
    "- For example, for every 10,000 poor children, 388 more children newly started schooling because of progresa.\n",
    "- The effect in 2.2 is identical to the effect in 2.1. \n",
    "- P-value of progresa coefficient is very small (less than 0.05), so we can reject the null hypothesis that this coefficient is likely to equal to zero.\n",
    "- The underlying assumption of this regression is there is no difference between T and C at baseline."
   ]
  },
  {
   "cell_type": "markdown",
   "metadata": {},
   "source": [
    "### 2.3 Multiple Regression\n",
    "\n",
    "Estimate the above regression, but this time include a set of control variables. Include, for instance, age, distance to a secondary school, gender, education of household head, welfare index, indigenous, etc.\n",
    "\n",
    "* How do the controls affect the point estimate of treatment effect?\n",
    "* How do the controls affect the standard error on the treatment effect? \n",
    "* How do you interpret the differences (or similarities) between your estimates of 2.2 and 2.3?\n",
    "* Interpet the coefficient associated with the `dist_sec` variable. Is this evidence that the household's distance from a secondary school has a *causal* impact on educational attainment?"
   ]
  },
  {
   "cell_type": "code",
   "execution_count": 131,
   "metadata": {},
   "outputs": [
    {
     "name": "stdout",
     "output_type": "stream",
     "text": [
      "                            OLS Regression Results                            \n",
      "==============================================================================\n",
      "Dep. Variable:                     sc   R-squared:                       0.304\n",
      "Model:                            OLS   Adj. R-squared:                  0.303\n",
      "Method:                 Least Squares   F-statistic:                     847.0\n",
      "Date:                Sat, 03 Feb 2024   Prob (F-statistic):               0.00\n",
      "Time:                        13:41:45   Log-Likelihood:                -6928.7\n",
      "No. Observations:               27200   AIC:                         1.389e+04\n",
      "Df Residuals:                   27185   BIC:                         1.401e+04\n",
      "Df Model:                          14                                         \n",
      "Covariance Type:            nonrobust                                         \n",
      "=================================================================================\n",
      "                    coef    std err          t      P>|t|      [0.025      0.975]\n",
      "---------------------------------------------------------------------------------\n",
      "const             1.6540      0.020     84.276      0.000       1.616       1.692\n",
      "age              -0.1000      0.001    -83.566      0.000      -0.102      -0.098\n",
      "dist_cap          0.0002   3.62e-05      5.247      0.000       0.000       0.000\n",
      "dist_sec         -0.0074      0.001     -8.537      0.000      -0.009      -0.006\n",
      "fam_n             0.0015      0.001      1.724      0.085      -0.000       0.003\n",
      "grc               0.0510      0.001     34.772      0.000       0.048       0.054\n",
      "hohage           -0.0003      0.000     -1.571      0.116      -0.001    7.49e-05\n",
      "hohedu            0.0041      0.001      4.790      0.000       0.002       0.006\n",
      "hohsex            0.0051      0.008      0.672      0.502      -0.010       0.020\n",
      "hohwag        -1.515e-06   2.77e-06     -0.547      0.584   -6.94e-06    3.91e-06\n",
      "min_dist          0.0004   6.22e-05      5.653      0.000       0.000       0.000\n",
      "progresa          0.0319      0.004      8.140      0.000       0.024       0.040\n",
      "welfare_index -1.809e-05   1.79e-05     -1.011      0.312   -5.32e-05     1.7e-05\n",
      "indig_1.0         0.0272      0.005      5.852      0.000       0.018       0.036\n",
      "sex_1.0           0.0336      0.004      8.855      0.000       0.026       0.041\n",
      "==============================================================================\n",
      "Omnibus:                     3250.561   Durbin-Watson:                   1.733\n",
      "Prob(Omnibus):                  0.000   Jarque-Bera (JB):             4554.560\n",
      "Skew:                          -0.949   Prob(JB):                         0.00\n",
      "Kurtosis:                       3.645   Cond. No.                     1.08e+04\n",
      "==============================================================================\n",
      "\n",
      "Notes:\n",
      "[1] Standard Errors assume that the covariance matrix of the errors is correctly specified.\n",
      "[2] The condition number is large, 1.08e+04. This might indicate that there are\n",
      "strong multicollinearity or other numerical problems.\n"
     ]
    }
   ],
   "source": [
    "# Your code here\n",
    "vals = ['age', 'dist_cap', 'dist_sec', 'fam_n', 'grc', 'hohage', 'hohedu', 'hohsex', 'hohwag', 'indig', 'min_dist','progresa','sex','sc','welfare_index']\n",
    "#vals = ['age', 'hohedu','indig','progresa','sex','sc','welfare_index']\n",
    "mul = df[(df['year'] == 98) & (df['poor'] == 1)][vals].dropna(axis = 0)\n",
    "X = pd.get_dummies(mul.drop(axis = 1, columns = ['sc']), columns = ['indig','sex'], drop_first= True, dtype= 'int')\n",
    "X = sm.add_constant(X)\n",
    "y = mul['sc']\n",
    "model = sm.OLS(y,X).fit()\n",
    "print(model.summary())"
   ]
  },
  {
   "cell_type": "markdown",
   "metadata": {},
   "source": [
    "*Discuss your results here*\n",
    "\n",
    "- The coefficient of progresa decreased from 0.0388 to 0.0319 by including control variables.\n",
    "- In my case, standard error didn't change by this manipulation. It remains 0.004.\n",
    "- By adding control variables, the model became able to express y with more factors. This leads to separating the apparent effect into the purer effect of progresa and others.\n",
    "- About dist_sec, this is not evidence of the causal effect of the distance from home to school for the same reason why coefficient of progresa is not evidence. It is just saying there's a negative correleation between the distance and enrollment."
   ]
  },
  {
   "cell_type": "markdown",
   "metadata": {},
   "source": [
    "### 2.4 Multiple Regression Revisited\n",
    "\n",
    "For the same set of control variables that you used in 2.3, carry out the following alternative estimation procedure. \n",
    "\n",
    "* First, regress the 1998 enrollment of the poor on the control variables, **without including the treatment assignment.** \n",
    "* Second, use this model to obtain predicted values of the 1998 enrollment for each child in the sample used to estimate the model in step 1. \n",
    "* Third, compute a new value for each child, which is the difference between the actual 1998 enrollment and the predicted enrollment value from step 2. \n",
    "* Finally, regress the difference from step 3 on treatment assignment.\n",
    "\n",
    "Compare the point estimate and the standard error on treatment assignment that you obtained in step 4 to their analogues in 2.3. Explain the results."
   ]
  },
  {
   "cell_type": "code",
   "execution_count": 132,
   "metadata": {},
   "outputs": [
    {
     "name": "stdout",
     "output_type": "stream",
     "text": [
      "                            OLS Regression Results                            \n",
      "==============================================================================\n",
      "Dep. Variable:                      y   R-squared:                       0.002\n",
      "Model:                            OLS   Adj. R-squared:                  0.002\n",
      "Method:                 Least Squares   F-statistic:                     65.63\n",
      "Date:                Sat, 03 Feb 2024   Prob (F-statistic):           5.67e-16\n",
      "Time:                        13:41:45   Log-Likelihood:                -6929.0\n",
      "No. Observations:               27200   AIC:                         1.386e+04\n",
      "Df Residuals:                   27198   BIC:                         1.388e+04\n",
      "Df Model:                           1                                         \n",
      "Covariance Type:            nonrobust                                         \n",
      "==============================================================================\n",
      "                 coef    std err          t      P>|t|      [0.025      0.975]\n",
      "------------------------------------------------------------------------------\n",
      "const         -0.0196      0.003     -6.386      0.000      -0.026      -0.014\n",
      "progresa       0.0316      0.004      8.101      0.000       0.024       0.039\n",
      "==============================================================================\n",
      "Omnibus:                     3243.853   Durbin-Watson:                   1.733\n",
      "Prob(Omnibus):                  0.000   Jarque-Bera (JB):             4542.491\n",
      "Skew:                          -0.948   Prob(JB):                         0.00\n",
      "Kurtosis:                       3.645   Cond. No.                         3.01\n",
      "==============================================================================\n",
      "\n",
      "Notes:\n",
      "[1] Standard Errors assume that the covariance matrix of the errors is correctly specified.\n"
     ]
    }
   ],
   "source": [
    "# Your code here\n",
    "\n",
    "#Make dataframe by selecting all the variables\n",
    "vals = ['age', 'dist_cap', 'dist_sec', 'fam_n', 'grc', 'hohage', 'hohedu', 'hohsex', 'hohwag', 'indig', 'min_dist','progresa','sex','sc','welfare_index']\n",
    "#vals = ['age','hohedu','indig','progresa','sex','sc','welfare_index']\n",
    "mul = df[(df['year'] == 98) & (df['poor'] == 1)][vals].dropna(axis = 0)\n",
    "\n",
    "#Make X by dropping 'sc' and 'progresa' and making dummies\n",
    "X = pd.get_dummies(mul.drop(axis = 1, columns = ['sc','progresa']), columns = ['indig','sex'], drop_first= True, dtype= 'int')\n",
    "#Add constant\n",
    "X = sm.add_constant(X)\n",
    "\n",
    "#Make y\n",
    "y = mul['sc']\n",
    "\n",
    "#fit the model by y and X\n",
    "model = sm.OLS(y,X).fit()\n",
    "\n",
    "\n",
    "\n",
    "#Get a prediction by the model above\n",
    "pred = model.predict(X)\n",
    "\n",
    "#Make a difference vector\n",
    "y2 = y - pred\n",
    "\n",
    "#Make x2 by progresa and constant\n",
    "x2 = sm.add_constant(mul['progresa'])\n",
    "\n",
    "#Fit the model by y2 and x2\n",
    "model_2 = sm.OLS(y2,x2).fit()\n",
    "\n",
    "#In 2.3, the coef of progresa was 0.0319.\n",
    "#In 2.4, I got 0.0316.\n",
    "\n",
    "print(model_2.summary())\n"
   ]
  },
  {
   "cell_type": "markdown",
   "metadata": {},
   "source": [
    "*Discuss your results here*\n",
    "\n",
    "- The coefficient of progresa in 2.4 is 0.0316, slightly less than 0.0319 in 2.3.\n",
    "- Standard Error of progresa coef is 0.004, the same as in 2.3.\n",
    "- What we do in this question is to try to explain the residuals (or difference of predicted outcome and true outcome) by the effect of our treatment, progresa.\n",
    "- Comparing the first case with the second case, the coefficients of 'progresa' are not going to be identical, since we need to residualize 'progresa' by other control variables for them to be the same, by FWL theorem.\n",
    "- Thus, the difference between these two cases derives from the absence of residualization, meaning a part of the effect of treatment assignment explained by other control variables."
   ]
  },
  {
   "cell_type": "markdown",
   "metadata": {},
   "source": [
    "### 2.5 Difference-in-Difference, version 1 (tabular)\n",
    "\n",
    "Thus far, we have computed the effects of Progresa by estimating the difference in 1998 enrollment rates across villages. An alternative approach would be to compute the treatment effect using a difference-in-differences framework.\n",
    "\n",
    "Begin by estimating the average treatment effects of the program for poor households using data from 1997 and 1998. Specifically, calculate the difference (between 1997 and 1998) in enrollment rates among poor households in treated villages; then compute the difference (between 1997 and 1998) in enrollment rates among poor households in control villages. \n",
    "\n",
    "Display your results in a 2x2 table where the rows are Control/Treatment and the columns are 1997/1998. \n",
    "\n",
    "* What is your difference-in-difference estimate of the impact, and how does it compare to your earlier (simple difference) results?\n",
    "* What is the counterfactual assumption underlying this estimate? \n"
   ]
  },
  {
   "cell_type": "code",
   "execution_count": 133,
   "metadata": {
    "collapsed": true,
    "jupyter": {
     "outputs_hidden": true
    }
   },
   "outputs": [
    {
     "name": "stdout",
     "output_type": "stream",
     "text": [
      "A diff in treatment is 0.023782233992046597\n",
      "A diff in control is -0.007549046327276487\n",
      "A diff-diff is 0.031331280319323085\n"
     ]
    },
    {
     "data": {
      "text/html": [
       "<div>\n",
       "<style scoped>\n",
       "    .dataframe tbody tr th:only-of-type {\n",
       "        vertical-align: middle;\n",
       "    }\n",
       "\n",
       "    .dataframe tbody tr th {\n",
       "        vertical-align: top;\n",
       "    }\n",
       "\n",
       "    .dataframe thead th {\n",
       "        text-align: right;\n",
       "    }\n",
       "</style>\n",
       "<table border=\"1\" class=\"dataframe\">\n",
       "  <thead>\n",
       "    <tr style=\"text-align: right;\">\n",
       "      <th></th>\n",
       "      <th>1997</th>\n",
       "      <th>1998</th>\n",
       "    </tr>\n",
       "  </thead>\n",
       "  <tbody>\n",
       "    <tr>\n",
       "      <th>Control</th>\n",
       "      <td>0.815186</td>\n",
       "      <td>0.807637</td>\n",
       "    </tr>\n",
       "    <tr>\n",
       "      <th>Treatment</th>\n",
       "      <td>0.822697</td>\n",
       "      <td>0.846479</td>\n",
       "    </tr>\n",
       "  </tbody>\n",
       "</table>\n",
       "</div>"
      ],
      "text/plain": [
       "               1997      1998\n",
       "Control    0.815186  0.807637\n",
       "Treatment  0.822697  0.846479"
      ]
     },
     "execution_count": 133,
     "metadata": {},
     "output_type": "execute_result"
    }
   ],
   "source": [
    "# Your code here\n",
    "post_t = df[(df['year'] == 98) & (df['poor'] == 1) & (df['progresa'] == 1)]['sc'].mean()\n",
    "pre_t = df[(df['year'] == 97) & (df['poor'] == 1) & (df['progresa'] == 1)]['sc'].mean()\n",
    "post_c = df[(df['year'] == 98) & (df['poor'] == 1) & (df['progresa'] == 0)]['sc'].mean()\n",
    "pre_c = df[(df['year'] == 97) & (df['poor'] == 1) & (df['progresa'] == 0)]['sc'].mean()\n",
    "\n",
    "#print(f'post_t = {post_t}')\n",
    "#print(f'pre_t = {pre_t}')\n",
    "print(f'A diff in treatment is {post_t - pre_t}')\n",
    "#print(f'post_c = {post_c}')\n",
    "#print(f'pre_c = {pre_c}')\n",
    "print(f'A diff in control is {post_c - pre_c}')\n",
    "print(f'A diff-diff is {(post_t - pre_t) - (post_c - pre_c)}')\n",
    "\n",
    "table = pd.DataFrame([[pre_c, post_c],[pre_t , post_t]], columns = ['1997','1998'], index=['Control', 'Treatment'])\n",
    "table"
   ]
  },
  {
   "cell_type": "markdown",
   "metadata": {},
   "source": [
    "*Discuss your results here*\n",
    "- DID effect is 0.0313, almost the same as the previous one but it's slightly smaller.\n",
    "- The underlying assumption is that treatment group and control group have the same trend in the abscence of the treatment."
   ]
  },
  {
   "cell_type": "markdown",
   "metadata": {},
   "source": [
    "### 2.6 Difference-in-Difference, version 2 (regression)\n",
    "\n",
    "Now use a regression specification to estimate the average treatment effects of the program in a difference-in-differences, for the poor households. Do this (i) first without including any control variables; and then (ii) do it a second time including at least 5 control variables. \n",
    "\n",
    "* What is your estimate (i) of the impact of Progresa? Be very specific in interpreting your coefficients and standard errors, and make sure to specify exactly what units you are measuring and estimating.\n",
    "* Does your estimate of the impact of Progresa from (i) change when you add control variables as in (ii)? How do you explain these changes, or the lack of changes on the `progresa` coefficient between (i) and (ii)?\n",
    "* How do the estimates from (i) and (ii) compare to the difference-in-difference estimates from 2.4 above? What accounts for these differences, if any exist?\n",
    "* What is the counterfactual assumption underlying regression (ii)? "
   ]
  },
  {
   "cell_type": "code",
   "execution_count": 134,
   "metadata": {
    "collapsed": true,
    "jupyter": {
     "outputs_hidden": true
    }
   },
   "outputs": [
    {
     "name": "stdout",
     "output_type": "stream",
     "text": [
      "DID estimator is 0.0313312803192795.\n",
      "                            OLS Regression Results                            \n",
      "==============================================================================\n",
      "Dep. Variable:                     sc   R-squared:                       0.001\n",
      "Model:                            OLS   Adj. R-squared:                  0.001\n",
      "Method:                 Least Squares   F-statistic:                     28.31\n",
      "Date:                Sat, 03 Feb 2024   Prob (F-statistic):           2.76e-18\n",
      "Time:                        13:41:45   Log-Likelihood:                -26242.\n",
      "No. Observations:               58372   AIC:                         5.249e+04\n",
      "Df Residuals:                   58368   BIC:                         5.253e+04\n",
      "Df Model:                           3                                         \n",
      "Covariance Type:            nonrobust                                         \n",
      "==============================================================================\n",
      "                 coef    std err          t      P>|t|      [0.025      0.975]\n",
      "------------------------------------------------------------------------------\n",
      "const          0.8152      0.003    233.182      0.000       0.808       0.822\n",
      "year          -0.0075      0.005     -1.480      0.139      -0.018       0.002\n",
      "progresa       0.0075      0.004      1.691      0.091      -0.001       0.016\n",
      "did            0.0313      0.006      4.835      0.000       0.019       0.044\n",
      "==============================================================================\n",
      "Omnibus:                    15346.988   Durbin-Watson:                   1.397\n",
      "Prob(Omnibus):                  0.000   Jarque-Bera (JB):            30608.651\n",
      "Skew:                          -1.711   Prob(JB):                         0.00\n",
      "Kurtosis:                       3.937   Cond. No.                         7.67\n",
      "==============================================================================\n",
      "\n",
      "Notes:\n",
      "[1] Standard Errors assume that the covariance matrix of the errors is correctly specified.\n"
     ]
    }
   ],
   "source": [
    "# Your code here\n",
    "#(i)\n",
    "df_did = df[df['poor']== 1][['year', 'progresa','sc']].dropna(axis= 0)\n",
    "df_did['year'] = df_did['year'].map({98 : 1, 97 : 0})\n",
    "df_did['did'] = df_did['year'] * df_did['progresa']\n",
    "x = sm.add_constant(df_did.drop(axis = 1, columns = ['sc']))\n",
    "y = df_did['sc']\n",
    "model = sm.OLS(y, x).fit()\n",
    "print(f\"DID estimator is {model.params['did']}.\")\n",
    "print(model.summary())\n"
   ]
  },
  {
   "cell_type": "code",
   "execution_count": 135,
   "metadata": {},
   "outputs": [
    {
     "name": "stdout",
     "output_type": "stream",
     "text": [
      "DID estimator is 0.02915726848791441\n",
      "                            OLS Regression Results                            \n",
      "==============================================================================\n",
      "Dep. Variable:                     sc   R-squared:                       0.311\n",
      "Model:                            OLS   Adj. R-squared:                  0.310\n",
      "Method:                 Least Squares   F-statistic:                     1631.\n",
      "Date:                Sat, 03 Feb 2024   Prob (F-statistic):               0.00\n",
      "Time:                        13:41:45   Log-Likelihood:                -15320.\n",
      "No. Observations:               57938   AIC:                         3.067e+04\n",
      "Df Residuals:                   57921   BIC:                         3.083e+04\n",
      "Df Model:                          16                                         \n",
      "Covariance Type:            nonrobust                                         \n",
      "=================================================================================\n",
      "                    coef    std err          t      P>|t|      [0.025      0.975]\n",
      "---------------------------------------------------------------------------------\n",
      "const             1.6163      0.014    119.229      0.000       1.590       1.643\n",
      "year              0.0251      0.004      5.866      0.000       0.017       0.033\n",
      "age              -0.0983      0.001   -120.910      0.000      -0.100      -0.097\n",
      "dist_cap          0.0002   2.51e-05      7.329      0.000       0.000       0.000\n",
      "dist_sec         -0.0065      0.001    -10.589      0.000      -0.008      -0.005\n",
      "fam_n             0.0009      0.001      1.505      0.132      -0.000       0.002\n",
      "grc               0.0486      0.001     48.071      0.000       0.047       0.051\n",
      "hohage        -4.707e-05      0.000     -0.354      0.723      -0.000       0.000\n",
      "hohedu            0.0037      0.001      6.225      0.000       0.003       0.005\n",
      "hohsex           -0.0017      0.005     -0.324      0.746      -0.012       0.008\n",
      "hohwag          4.95e-07    1.9e-06      0.260      0.795   -3.24e-06    4.23e-06\n",
      "indig             0.0317      0.003      9.854      0.000       0.025       0.038\n",
      "min_dist          0.0003   4.31e-05      7.579      0.000       0.000       0.000\n",
      "progresa          0.0033      0.004      0.876      0.381      -0.004       0.011\n",
      "sex               0.0367      0.003     14.006      0.000       0.032       0.042\n",
      "welfare_index -1.631e-05   1.24e-05     -1.318      0.188   -4.06e-05    7.95e-06\n",
      "did               0.0292      0.005      5.390      0.000       0.019       0.040\n",
      "==============================================================================\n",
      "Omnibus:                     6083.138   Durbin-Watson:                   1.514\n",
      "Prob(Omnibus):                  0.000   Jarque-Bera (JB):             8175.414\n",
      "Skew:                          -0.887   Prob(JB):                         0.00\n",
      "Kurtosis:                       3.488   Cond. No.                     1.09e+04\n",
      "==============================================================================\n",
      "\n",
      "Notes:\n",
      "[1] Standard Errors assume that the covariance matrix of the errors is correctly specified.\n",
      "[2] The condition number is large, 1.09e+04. This might indicate that there are\n",
      "strong multicollinearity or other numerical problems.\n"
     ]
    }
   ],
   "source": [
    "#(ii)\n",
    "vals = ['year','age', 'dist_cap', 'dist_sec', 'fam_n', 'grc', 'hohage', 'hohedu', 'hohsex', 'hohwag', 'indig', 'min_dist','progresa','sex','sc','welfare_index']\n",
    "df_did = df[df['poor'] == 1][vals].dropna(axis= 0)\n",
    "df_did['year'] = df_did['year'].map({98 : 1, 97 : 0})\n",
    "df_did['did'] = df_did['year'] * df_did['progresa']\n",
    "X = sm.add_constant(df_did.drop(axis = 1, columns = ['sc']))\n",
    "y = df_did['sc']\n",
    "model = sm.OLS(y, X).fit()\n",
    "print(f\"DID estimator is {model.params['did']}\")\n",
    "print(model.summary())\n"
   ]
  },
  {
   "cell_type": "code",
   "execution_count": 136,
   "metadata": {},
   "outputs": [
    {
     "data": {
      "text/plain": [
       "\"\\n#visualize it\\nconst = 1.6163\\nyear = 0.0251\\nprogresa = 0.0033\\ndid =  0.0292\\n\\nx = np.array([0, 1])\\ny_t = const + year * x + progresa + did * x\\ny_c = const + year * x\\nplt.plot(x, y_t, color = 'red')\\nplt.plot(x, y_c, color = 'blue')\\nprint(X.shape)\\n\""
      ]
     },
     "execution_count": 136,
     "metadata": {},
     "output_type": "execute_result"
    }
   ],
   "source": [
    "'''\n",
    "#visualize it\n",
    "const = 1.6163\n",
    "year = 0.0251\n",
    "progresa = 0.0033\n",
    "did =  0.0292\n",
    "\n",
    "x = np.array([0, 1])\n",
    "y_t = const + year * x + progresa + did * x\n",
    "y_c = const + year * x\n",
    "plt.plot(x, y_t, color = 'red')\n",
    "plt.plot(x, y_c, color = 'blue')\n",
    "print(X.shape)\n",
    "'''\n"
   ]
  },
  {
   "cell_type": "markdown",
   "metadata": {},
   "source": [
    "*Discuss your results here*\n",
    "- The did estimator of (i) is 0.0313, meaning the treatment increases the likelihood of child's enrollment of each household by 3.13%.\n",
    "- In other words, for every 10,000 children from poor households, 313 more children newly started schooling because of progresa.\n",
    "- The estimate of the impact changed slightly from 0.0313(i) to 0.0292(ii), which indicates other control variables I added have a small covariance with DID estimater.\n",
    "- (In 2.4, that was not difference in difference, right?) The difference between estimates in 2.6 and 2.4 is 0.0003, this comes from the difference in the model and the underlying assumptions of single difference we did in 2.4.\n",
    "- The underlying assumption of DID is that treatment group and control group have the same trend in the abscence of the treatment."
   ]
  },
  {
   "cell_type": "markdown",
   "metadata": {},
   "source": [
    "### 2.7 Spillover effects\n",
    "\n",
    "Thus far, we have focused on the impact of PROGRESA on the school enrollment of poor households. Repeat your analysis in 2.5, instead focusing on (a) the impact of PROGRESA on the school enrollment of non-poor households, and (b) the impact ofo PROGRESA on *other outcomes* of poor households that might plausibly have been affected by the PROGRESA program.\n",
    "* Do you observe any impacts of PROGRESA on the school enrollment of the non-poor?\n",
    "* Regardless of whether you find evidence of spillovers to non-poor, describe one or two reasons why PROGRESA *might* have impacted non-poor households. Give concrete examples based on the context in which PROGRESA was implemented.\n",
    "* Do you observe any impacts of PROGRESA on other aspects of the welfare of poor households? "
   ]
  },
  {
   "cell_type": "code",
   "execution_count": 137,
   "metadata": {
    "collapsed": true,
    "jupyter": {
     "outputs_hidden": true
    }
   },
   "outputs": [
    {
     "name": "stdout",
     "output_type": "stream",
     "text": [
      "A diff in treatment is 0.013784584782011833\n",
      "A diff in control is 0.01375030951737799\n",
      "A diff in diff is 3.4275264633842895e-05\n"
     ]
    },
    {
     "data": {
      "text/html": [
       "<div>\n",
       "<style scoped>\n",
       "    .dataframe tbody tr th:only-of-type {\n",
       "        vertical-align: middle;\n",
       "    }\n",
       "\n",
       "    .dataframe tbody tr th {\n",
       "        vertical-align: top;\n",
       "    }\n",
       "\n",
       "    .dataframe thead th {\n",
       "        text-align: right;\n",
       "    }\n",
       "</style>\n",
       "<table border=\"1\" class=\"dataframe\">\n",
       "  <thead>\n",
       "    <tr style=\"text-align: right;\">\n",
       "      <th></th>\n",
       "      <th>1997</th>\n",
       "      <th>1998</th>\n",
       "    </tr>\n",
       "  </thead>\n",
       "  <tbody>\n",
       "    <tr>\n",
       "      <th>Control</th>\n",
       "      <td>0.762587</td>\n",
       "      <td>0.776337</td>\n",
       "    </tr>\n",
       "    <tr>\n",
       "      <th>Treatment</th>\n",
       "      <td>0.795264</td>\n",
       "      <td>0.809049</td>\n",
       "    </tr>\n",
       "  </tbody>\n",
       "</table>\n",
       "</div>"
      ],
      "text/plain": [
       "               1997      1998\n",
       "Control    0.762587  0.776337\n",
       "Treatment  0.795264  0.809049"
      ]
     },
     "execution_count": 137,
     "metadata": {},
     "output_type": "execute_result"
    }
   ],
   "source": [
    "# Your code here\n",
    "# Your code here\n",
    "post_t = df[(df['year'] == 98) & (df['poor'] == 0) & (df['progresa'] == 1)]['sc'].mean()\n",
    "pre_t = df[(df['year'] == 97) & (df['poor'] == 0) & (df['progresa'] == 1)]['sc'].mean()\n",
    "post_c = df[(df['year'] == 98) & (df['poor'] == 0) & (df['progresa'] == 0)]['sc'].mean()\n",
    "pre_c = df[(df['year'] == 97) & (df['poor'] == 0) & (df['progresa'] == 0)]['sc'].mean()\n",
    "\n",
    "#print(f'post_t = {post_t}')\n",
    "#print(f'pre_t = {pre_t}')\n",
    "print(f'A diff in treatment is {post_t - pre_t}')\n",
    "#print(f'post_c = {post_c}')\n",
    "#print(f'pre_c = {pre_c}')\n",
    "print(f'A diff in control is {post_c - pre_c}')\n",
    "print(f'A diff in diff is {post_t - pre_t - (post_c - pre_c)}')\n",
    "\n",
    "table = pd.DataFrame([[pre_c, post_c],[pre_t , post_t]], columns = ['1997','1998'], index=['Control', 'Treatment'])\n",
    "table\n",
    "\n"
   ]
  },
  {
   "cell_type": "code",
   "execution_count": 138,
   "metadata": {},
   "outputs": [
    {
     "name": "stdout",
     "output_type": "stream",
     "text": [
      "The did estimater on age is 5.3540505362548174e-14\n"
     ]
    },
    {
     "name": "stdout",
     "output_type": "stream",
     "text": [
      "The did estimater on dist_cap is 1.3868906023617456e-12\n",
      "The did estimater on dist_sec is 2.520900155289496e-14\n",
      "The did estimater on fam_n is 6.259923135409906e-14\n",
      "The did estimater on grc is 0.022008154355999232\n",
      "The did estimater on hohage is 1.1801670751765414e-13\n",
      "The did estimater on hohedu is -2.1024848528838902e-14\n",
      "The did estimater on hohsex is 2.5678244253146687e-15\n",
      "The did estimater on hohwag is 8.967049325292464e-12\n",
      "The did estimater on indig is 5.734128449841336e-15\n",
      "The did estimater on min_dist is -1.3007372956508334e-12\n",
      "The did estimater on sex is 2.6957602816679582e-15\n",
      "The did estimater on welfare_index is 5.417888360170764e-13\n"
     ]
    }
   ],
   "source": [
    "# See spillover effects of progresa treatment on other variables \n",
    "\n",
    "for val in ['age', 'dist_cap', 'dist_sec', 'fam_n', 'grc', 'hohage', 'hohedu', 'hohsex', 'hohwag', 'indig', 'min_dist','sex','welfare_index']:\n",
    "    df_did = df[df['poor']== 1][['year', 'progresa',val]].dropna(axis= 0)\n",
    "    df_did['year'] = df_did['year'].map({98 : 1, 97 : 0})\n",
    "    df_did['did'] = df_did['year'] * df_did['progresa']\n",
    "    x = sm.add_constant(df_did.drop(axis = 1, columns = [val]))\n",
    "    y = df_did[val]\n",
    "    model = sm.OLS(y, x).fit()\n",
    "    print(f\"The did estimater on {val} is {model.params['did']}\")\n"
   ]
  },
  {
   "cell_type": "markdown",
   "metadata": {},
   "source": [
    "*Discuss your results here*\n",
    "- Spillover to non-poor children is 0.00034, so it's very small.\n",
    "- The reasonable reason for spillover 1) non-poor children who saw their friends from poor household going to school would feel like enrolling in the school too.\n",
    "- The spillover on other variable is not obvious. grc showed correlation but it's obviously not causation."
   ]
  },
  {
   "cell_type": "markdown",
   "metadata": {},
   "source": [
    "### 2.8 Summary\n",
    "\n",
    "* Based on all the analysis you have undertaken to date, do you believe that Progresa had a causal impact on the enrollment rates of poor households in Mexico? "
   ]
  },
  {
   "cell_type": "markdown",
   "metadata": {},
   "source": [
    "*Discuss your results here*\n",
    "\n",
    "- As long as standing with the assumption that the treatment group and control group have the same trend in the absence of the treatment, the double differences method can estimate an unbiased causal impact.\n",
    "- Thus, according to 2.6 Double differences by regression, we can claim that the Progresa had a causal impact on the enrollment rates of poor households, around 3%.\n",
    "- Other methods, such as simple differences, have serious flaws in their underlying assumptions.\n",
    "- For example, we saw we could not deny that the treatment group and control group have statistically significant difference.\n"
   ]
  }
 ],
 "metadata": {
  "anaconda-cloud": {},
  "jupytext": {
   "formats": "ipynb,py:light"
  },
  "kernelspec": {
   "display_name": "Python 3 (ipykernel)",
   "language": "python",
   "name": "python3"
  },
  "language_info": {
   "codemirror_mode": {
    "name": "ipython",
    "version": 3
   },
   "file_extension": ".py",
   "mimetype": "text/x-python",
   "name": "python",
   "nbconvert_exporter": "python",
   "pygments_lexer": "ipython3",
   "version": "3.11.3"
  }
 },
 "nbformat": 4,
 "nbformat_minor": 4
}
