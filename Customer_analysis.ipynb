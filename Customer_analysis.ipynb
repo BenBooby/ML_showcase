{
  "nbformat": 4,
  "nbformat_minor": 0,
  "metadata": {
    "colab": {
      "provenance": [],
      "toc_visible": true
    },
    "kernelspec": {
      "name": "python3",
      "display_name": "Python 3"
    }
  },
  "cells": [
    {
      "cell_type": "markdown",
      "metadata": {
        "id": "RMYhgFI7BK_e"
      },
      "source": [
        "#Import libraries"
      ]
    },
    {
      "cell_type": "code",
      "metadata": {
        "id": "zpVTkw8yVD0b"
      },
      "source": [
        "import numpy as np\n",
        "import pandas as pd\n",
        "import matplotlib.pyplot as plt\n",
        "import seaborn as sns\n",
        "import datetime as dt\n",
        "import warnings\n",
        "warnings.filterwarnings('ignore')\n",
        "\n",
        "%matplotlib inline\n"
      ],
      "execution_count": null,
      "outputs": []
    },
    {
      "cell_type": "markdown",
      "metadata": {
        "id": "CKAE3zo2A6Lk"
      },
      "source": [
        "#Fetch the latest data from BIG QUERY "
      ]
    },
    {
      "cell_type": "code",
      "metadata": {
        "colab": {
          "base_uri": "https://localhost:8080/"
        },
        "id": "MOiCNQlkAoG3",
        "outputId": "351b1560-ca6d-4b43-9c8a-392974e32b85"
      },
      "source": [
        "from google.colab import auth\n",
        "auth.authenticate_user()\n",
        "print('Authenticated')"
      ],
      "execution_count": null,
      "outputs": [
        {
          "output_type": "stream",
          "text": [
            "Authenticated\n"
          ],
          "name": "stdout"
        }
      ]
    },
    {
      "cell_type": "code",
      "metadata": {
        "id": "cr9hHu7dCUC3"
      },
      "source": [
        "sql = '''WITH buy AS(\n",
        "    SELECT\n",
        "        ODMCUSID AS MemberId\n",
        "        ,Count(Distinct ODDORDID) AS Otimes\n",
        "        ,COUNT(DISTINCT PROD_ID) AS countBuyProduct\n",
        "        ,COUNT(distinct (CASE WHEN Date(OrderDtm) <= '2020-9-30' THEN ODDORDID ELSE NULL END)) AS Ord_20SS\n",
        "        ,COUNT(distinct (CASE WHEN Date(OrderDtm) > '2020-9-30'  AND Date(OrderDtm) <= '2021-3-31' THEN ODDORDID ELSE Null END)) AS Ord_20AW\n",
        "        ,COUNT(distinct (CASE WHEN Date(OrderDtm) > '2021-3-31' THEN ODDORDID ELSE Null END)) AS Ord_21SS\n",
        "        ,SUM(SKU_SUM_AFTER_COUPON) AS Ttl_Ord\n",
        "        ,ROUND(SUM(SKU_SUM_AFTER_COUPON) / Count(Distinct ODDORDID)) AS AOV\n",
        "        ,s.GENDER\n",
        "        ,AGE\n",
        "        ,COUNT(CASE WHEN CAT_0 = \"MEN\" THEN CAT_0 ELSE NULL END) AS MEN_count\n",
        "        ,COUNT(CASE WHEN CAT_0 = \"WOMEN\" THEN CAT_0 ELSE NULL END) AS WOMEN_count\n",
        "        ,STRING_AGG( DISTINCT BRAND_NAME) AS Brand_array\n",
        "        ,SUM(Elegant) AS Elegant\n",
        "        ,SUM(Modern) AS Modern\n",
        "        ,SUM(Minimal) AS Minimal\n",
        "        ,SUM(tag.Natural) AS _Natural\n",
        "        ,SUM(Girly) AS Girly\n",
        "        ,SUM(Vacation) AS Vacation\n",
        "        ,SUM(Vintage) AS Vintage\n",
        "        ,SUM(Rock) AS ROCK\n",
        "        ,SUM(Outdoor) AS Outdoor\n",
        "        ,SUM(Street) AS Street\n",
        "        ,SUM(Mode) AS Mode\n",
        "        ,SUM(Gentle) AS Gentle\t\n",
        "        ,SUM(Preppie) AS Preppie\n",
        "        ,SUM(Artsy) AS Artsy\n",
        "    FROM\n",
        "        `pchome-mitch-ga-rawdata.ANALYSIS.order_product_analysis` AS s\n",
        "        INNER JOIN `pchome-mitch-ga-rawdata.ANALYSIS.Cleaned_OrderId` AS t ON t.CL_ord  = s.ODDORDID\n",
        "        LEFT JOIN `pchome-mitch-ga-rawdata.ANALYSIS.brand_tag` As tag on tag.BrandName = s.BRAND_NAME AND tag.Gender = s.CAT_0\n",
        "    WHERE\n",
        "        REFUND_STATUS IS NULL \n",
        "        AND Transfer_Status = '轉單'\n",
        "        AND MARKET_PRICE > 0\n",
        "        --AND DATE(ORDERDTM) >= '2020-10-01'\n",
        "        AND BRAND_NAME NOT IN ('POCO','DYNABOOK','realme','Logitech','ROG')\n",
        "    GROUP BY\n",
        "        MemberId,\n",
        "        GENDER,\n",
        "        AGE\n",
        "),\n",
        "\n",
        "flat AS (\n",
        "    SELECT\n",
        "        visitStartTime,\n",
        "        hits.page.pagePath,\n",
        "        (SELECT value FROM UNNEST(hits.customDimensions) where index = 4) AS Member_Id, --AS hit_customDimension4 \n",
        "    REGEXP_EXTRACT(hits.page.pagePath, 'PS.{11}') AS PROD_ID \n",
        "    FROM\n",
        "    `pchome-mitch-ga-rawdata.210665845.ga_sessions_*` AS t,\n",
        "    UNNEST(hits) AS hits \n",
        "    WHERE\n",
        "    (_table_suffix BETWEEN '20201003' AND '20210831')\n",
        "),\n",
        "\n",
        "view AS(\n",
        "    SELECT \n",
        "        Member_Id\n",
        "        ,visitStartTime\n",
        "        ,PROD_ID \n",
        "    FROM flat\n",
        "    WHERE \n",
        "        Member_Id IS NOT NULL\n",
        "        AND PROD_ID IS NOT NULL\n",
        "    GROUP BY Member_Id, visitStartTime, PROD_ID \n",
        "),\n",
        "--for test: 000000009888@oau_apple\n",
        "\n",
        "view_tag AS (\n",
        "    SELECT \n",
        "        view.* \n",
        "        ,tag.* \n",
        "    FROM\n",
        "        view\n",
        "        LEFT JOIN (SELECT PROD_ID, BRAND_NAME, CAT_0 FROM `pchome-mitch-ga-rawdata.MAIN.product_full_table` GROUP BY PROD_ID, BRAND_NAME, CAT_0) AS p on p.PROD_ID = view.PROD_ID \n",
        "        INNER JOIN `pchome-mitch-ga-rawdata.ANALYSIS.brand_tag`AS tag on tag.BrandName = p.BRAND_NAME AND p.CAT_0 = tag.Gender\n",
        "),\n",
        "\n",
        "view_tag_agg AS (\n",
        "    SELECT \n",
        "        Member_Id\n",
        "        ,COUNT(DISTINCT PROD_ID) AS countViewProduct\n",
        "        ,SUM(Elegant) AS vElegant\n",
        "        ,SUM(Modern) AS vModern\n",
        "        ,SUM(Minimal) AS vMinimal\n",
        "        ,SUM(view_tag.Natural) AS v_Natural\n",
        "        ,SUM(Girly) AS vGirly\n",
        "        ,SUM(Vacation) AS vVacation\n",
        "        ,SUM(Vintage) AS vVintage\n",
        "        ,SUM(Rock) AS vROCK\n",
        "        ,SUM(Outdoor) AS vOutdoor\n",
        "        ,SUM(Street) AS vStreet\n",
        "        ,SUM(Mode) AS vMode\n",
        "        ,SUM(Gentle) AS vGentle\t\n",
        "        ,SUM(Preppie) AS vPreppie\n",
        "        ,SUM(Artsy) AS vArtsy\n",
        "    FROM view_tag\n",
        "    --WHERE Member_Id = '000000009888@oau_apple'\n",
        "    GROUP BY Member_Id\n",
        "),\n",
        "\n",
        "all_tag AS (\n",
        "    SELECT \n",
        "        member.MEM_Id\n",
        "        ,Otimes\n",
        "        ,countBuyProduct\n",
        "        ,countViewProduct\n",
        "        ,Ord_20SS\n",
        "        ,Ord_20AW\n",
        "        ,Ord_21SS\n",
        "        ,Ttl_Ord\n",
        "        ,AOV\n",
        "        ,CASE member.GENDER WHEN 'M' THEN 'male' WHEN 'F' THEN 'female' ELSE null END AS GENDER\n",
        "        ,CASE WHEN MEN_count > WOMEN_count THEN \"male\" ELSE \"female\" END AS GENDER_exp\n",
        "        ,member.AGE\n",
        "        ,member.CREDTM\n",
        "        --,Brand_Array\n",
        "        ,Elegant\n",
        "        ,Modern\n",
        "        ,Minimal\n",
        "        ,_Natural\n",
        "        ,Girly\n",
        "        ,Vacation\n",
        "        ,Vintage\n",
        "        ,Rock\n",
        "        ,Outdoor\n",
        "        ,Street\n",
        "        ,Mode\n",
        "        ,Gentle\n",
        "        ,Preppie\n",
        "        ,Artsy\n",
        "        ,vElegant\n",
        "        ,vModern\n",
        "        ,vMinimal\n",
        "        ,v_Natural\n",
        "        ,vGirly\n",
        "        ,vVacation\n",
        "        ,vVintage\n",
        "        ,vRock\n",
        "        ,vOutdoor\n",
        "        ,vStreet\n",
        "        ,vMode\n",
        "        ,vGentle\n",
        "        ,vPreppie\n",
        "        ,vArtsy\n",
        "    FROM `pchome-mitch-ga-rawdata.MAIN.member_table` AS member \n",
        "        LEFT JOIN buy on member.MEM_Id = buy.MemberId \n",
        "        LEFT JOIN view_tag_agg on view_tag_agg.Member_Id = member.MEM_Id\n",
        ")\n",
        "\n",
        "SELECT\n",
        "    *\n",
        "    ,CASE WHEN GENDER IS NULL THEN GENDER_exp ELSE GENDER END AS GENDER_adj \n",
        "FROM all_tag\n",
        "ORDER BY Otimes Desc'''"
      ],
      "execution_count": null,
      "outputs": []
    },
    {
      "cell_type": "code",
      "metadata": {
        "colab": {
          "base_uri": "https://localhost:8080/",
          "height": 394
        },
        "id": "HflyStRc-d4n",
        "outputId": "7885adc8-b80e-496c-c270-224ea1289adc"
      },
      "source": [
        "from google.cloud import bigquery\n",
        "\n",
        "project_id = '724286661953'\n",
        "client = bigquery.Client(project=project_id)\n",
        "\n",
        "bq = client.query(sql).to_dataframe()\n",
        "bq.head()"
      ],
      "execution_count": null,
      "outputs": [
        {
          "output_type": "execute_result",
          "data": {
            "text/html": [
              "<div>\n",
              "<style scoped>\n",
              "    .dataframe tbody tr th:only-of-type {\n",
              "        vertical-align: middle;\n",
              "    }\n",
              "\n",
              "    .dataframe tbody tr th {\n",
              "        vertical-align: top;\n",
              "    }\n",
              "\n",
              "    .dataframe thead th {\n",
              "        text-align: right;\n",
              "    }\n",
              "</style>\n",
              "<table border=\"1\" class=\"dataframe\">\n",
              "  <thead>\n",
              "    <tr style=\"text-align: right;\">\n",
              "      <th></th>\n",
              "      <th>MEM_Id</th>\n",
              "      <th>Otimes</th>\n",
              "      <th>countBuyProduct</th>\n",
              "      <th>countViewProduct</th>\n",
              "      <th>Ord_20SS</th>\n",
              "      <th>Ord_20AW</th>\n",
              "      <th>Ord_21SS</th>\n",
              "      <th>Ttl_Ord</th>\n",
              "      <th>AOV</th>\n",
              "      <th>GENDER</th>\n",
              "      <th>GENDER_exp</th>\n",
              "      <th>AGE</th>\n",
              "      <th>CREDTM</th>\n",
              "      <th>Elegant</th>\n",
              "      <th>Modern</th>\n",
              "      <th>Minimal</th>\n",
              "      <th>_Natural</th>\n",
              "      <th>Girly</th>\n",
              "      <th>Vacation</th>\n",
              "      <th>Vintage</th>\n",
              "      <th>Rock</th>\n",
              "      <th>Outdoor</th>\n",
              "      <th>Street</th>\n",
              "      <th>Mode</th>\n",
              "      <th>Gentle</th>\n",
              "      <th>Preppie</th>\n",
              "      <th>Artsy</th>\n",
              "      <th>vElegant</th>\n",
              "      <th>vModern</th>\n",
              "      <th>vMinimal</th>\n",
              "      <th>v_Natural</th>\n",
              "      <th>vGirly</th>\n",
              "      <th>vVacation</th>\n",
              "      <th>vVintage</th>\n",
              "      <th>vRock</th>\n",
              "      <th>vOutdoor</th>\n",
              "      <th>vStreet</th>\n",
              "      <th>vMode</th>\n",
              "      <th>vGentle</th>\n",
              "      <th>vPreppie</th>\n",
              "      <th>vArtsy</th>\n",
              "      <th>GENDER_adj</th>\n",
              "    </tr>\n",
              "  </thead>\n",
              "  <tbody>\n",
              "    <tr>\n",
              "      <th>0</th>\n",
              "      <td>c896e578c8bcf05212cc33c24f35335cdb26f496</td>\n",
              "      <td>36.0</td>\n",
              "      <td>27.0</td>\n",
              "      <td>31.0</td>\n",
              "      <td>0.0</td>\n",
              "      <td>0.0</td>\n",
              "      <td>36.0</td>\n",
              "      <td>126131.0</td>\n",
              "      <td>3504.0</td>\n",
              "      <td>None</td>\n",
              "      <td>female</td>\n",
              "      <td>33.0</td>\n",
              "      <td>2021-01-23 15:25:04</td>\n",
              "      <td>0.0</td>\n",
              "      <td>0.0</td>\n",
              "      <td>0.0</td>\n",
              "      <td>0.0</td>\n",
              "      <td>0.0</td>\n",
              "      <td>0.0</td>\n",
              "      <td>0.0</td>\n",
              "      <td>0.0</td>\n",
              "      <td>2.0</td>\n",
              "      <td>2.0</td>\n",
              "      <td>0.0</td>\n",
              "      <td>0.0</td>\n",
              "      <td>0.0</td>\n",
              "      <td>0.0</td>\n",
              "      <td>0.0</td>\n",
              "      <td>3.0</td>\n",
              "      <td>13.0</td>\n",
              "      <td>12.0</td>\n",
              "      <td>0.0</td>\n",
              "      <td>0.0</td>\n",
              "      <td>1.0</td>\n",
              "      <td>0.0</td>\n",
              "      <td>21.0</td>\n",
              "      <td>24.0</td>\n",
              "      <td>3.0</td>\n",
              "      <td>3.0</td>\n",
              "      <td>2.0</td>\n",
              "      <td>2.0</td>\n",
              "      <td>female</td>\n",
              "    </tr>\n",
              "    <tr>\n",
              "      <th>1</th>\n",
              "      <td>abb6cc6a9c4eb90c78f193121cc338b923fd4817</td>\n",
              "      <td>18.0</td>\n",
              "      <td>22.0</td>\n",
              "      <td>38.0</td>\n",
              "      <td>0.0</td>\n",
              "      <td>10.0</td>\n",
              "      <td>8.0</td>\n",
              "      <td>72290.0</td>\n",
              "      <td>4016.0</td>\n",
              "      <td>None</td>\n",
              "      <td>male</td>\n",
              "      <td>NaN</td>\n",
              "      <td>2020-10-02 14:46:02</td>\n",
              "      <td>3.0</td>\n",
              "      <td>0.0</td>\n",
              "      <td>6.0</td>\n",
              "      <td>0.0</td>\n",
              "      <td>3.0</td>\n",
              "      <td>1.0</td>\n",
              "      <td>4.0</td>\n",
              "      <td>1.0</td>\n",
              "      <td>1.0</td>\n",
              "      <td>4.0</td>\n",
              "      <td>0.0</td>\n",
              "      <td>1.0</td>\n",
              "      <td>5.0</td>\n",
              "      <td>1.0</td>\n",
              "      <td>8.0</td>\n",
              "      <td>5.0</td>\n",
              "      <td>7.0</td>\n",
              "      <td>4.0</td>\n",
              "      <td>9.0</td>\n",
              "      <td>6.0</td>\n",
              "      <td>7.0</td>\n",
              "      <td>3.0</td>\n",
              "      <td>7.0</td>\n",
              "      <td>21.0</td>\n",
              "      <td>5.0</td>\n",
              "      <td>0.0</td>\n",
              "      <td>4.0</td>\n",
              "      <td>1.0</td>\n",
              "      <td>male</td>\n",
              "    </tr>\n",
              "    <tr>\n",
              "      <th>2</th>\n",
              "      <td>ace7d660024060d329dd811bb18f99da3ef51cc3</td>\n",
              "      <td>17.0</td>\n",
              "      <td>49.0</td>\n",
              "      <td>139.0</td>\n",
              "      <td>5.0</td>\n",
              "      <td>8.0</td>\n",
              "      <td>4.0</td>\n",
              "      <td>89379.0</td>\n",
              "      <td>5258.0</td>\n",
              "      <td>female</td>\n",
              "      <td>female</td>\n",
              "      <td>41.0</td>\n",
              "      <td>2020-03-17 11:09:26</td>\n",
              "      <td>2.0</td>\n",
              "      <td>1.0</td>\n",
              "      <td>11.0</td>\n",
              "      <td>6.0</td>\n",
              "      <td>11.0</td>\n",
              "      <td>2.0</td>\n",
              "      <td>0.0</td>\n",
              "      <td>0.0</td>\n",
              "      <td>8.0</td>\n",
              "      <td>9.0</td>\n",
              "      <td>1.0</td>\n",
              "      <td>0.0</td>\n",
              "      <td>6.0</td>\n",
              "      <td>0.0</td>\n",
              "      <td>27.0</td>\n",
              "      <td>15.0</td>\n",
              "      <td>46.0</td>\n",
              "      <td>29.0</td>\n",
              "      <td>15.0</td>\n",
              "      <td>21.0</td>\n",
              "      <td>7.0</td>\n",
              "      <td>0.0</td>\n",
              "      <td>60.0</td>\n",
              "      <td>52.0</td>\n",
              "      <td>15.0</td>\n",
              "      <td>5.0</td>\n",
              "      <td>13.0</td>\n",
              "      <td>4.0</td>\n",
              "      <td>female</td>\n",
              "    </tr>\n",
              "    <tr>\n",
              "      <th>3</th>\n",
              "      <td>a4c5a654af7c505eb892ab6d23eaa688442999cc</td>\n",
              "      <td>17.0</td>\n",
              "      <td>29.0</td>\n",
              "      <td>551.0</td>\n",
              "      <td>3.0</td>\n",
              "      <td>14.0</td>\n",
              "      <td>0.0</td>\n",
              "      <td>45782.0</td>\n",
              "      <td>2693.0</td>\n",
              "      <td>male</td>\n",
              "      <td>male</td>\n",
              "      <td>NaN</td>\n",
              "      <td>2020-05-17 15:35:17</td>\n",
              "      <td>17.0</td>\n",
              "      <td>10.0</td>\n",
              "      <td>17.0</td>\n",
              "      <td>7.0</td>\n",
              "      <td>3.0</td>\n",
              "      <td>0.0</td>\n",
              "      <td>8.0</td>\n",
              "      <td>0.0</td>\n",
              "      <td>0.0</td>\n",
              "      <td>9.0</td>\n",
              "      <td>10.0</td>\n",
              "      <td>4.0</td>\n",
              "      <td>4.0</td>\n",
              "      <td>0.0</td>\n",
              "      <td>109.0</td>\n",
              "      <td>72.0</td>\n",
              "      <td>679.0</td>\n",
              "      <td>278.0</td>\n",
              "      <td>48.0</td>\n",
              "      <td>19.0</td>\n",
              "      <td>333.0</td>\n",
              "      <td>20.0</td>\n",
              "      <td>118.0</td>\n",
              "      <td>375.0</td>\n",
              "      <td>72.0</td>\n",
              "      <td>258.0</td>\n",
              "      <td>514.0</td>\n",
              "      <td>4.0</td>\n",
              "      <td>male</td>\n",
              "    </tr>\n",
              "    <tr>\n",
              "      <th>4</th>\n",
              "      <td>3983bcad22387772779b3f71f8031b6cedbcff2a</td>\n",
              "      <td>16.0</td>\n",
              "      <td>44.0</td>\n",
              "      <td>453.0</td>\n",
              "      <td>2.0</td>\n",
              "      <td>2.0</td>\n",
              "      <td>12.0</td>\n",
              "      <td>80301.0</td>\n",
              "      <td>5019.0</td>\n",
              "      <td>male</td>\n",
              "      <td>male</td>\n",
              "      <td>34.0</td>\n",
              "      <td>2020-07-10 17:33:42</td>\n",
              "      <td>4.0</td>\n",
              "      <td>1.0</td>\n",
              "      <td>42.0</td>\n",
              "      <td>10.0</td>\n",
              "      <td>0.0</td>\n",
              "      <td>2.0</td>\n",
              "      <td>0.0</td>\n",
              "      <td>0.0</td>\n",
              "      <td>0.0</td>\n",
              "      <td>0.0</td>\n",
              "      <td>1.0</td>\n",
              "      <td>18.0</td>\n",
              "      <td>22.0</td>\n",
              "      <td>3.0</td>\n",
              "      <td>94.0</td>\n",
              "      <td>9.0</td>\n",
              "      <td>793.0</td>\n",
              "      <td>274.0</td>\n",
              "      <td>3.0</td>\n",
              "      <td>8.0</td>\n",
              "      <td>34.0</td>\n",
              "      <td>3.0</td>\n",
              "      <td>6.0</td>\n",
              "      <td>53.0</td>\n",
              "      <td>9.0</td>\n",
              "      <td>302.0</td>\n",
              "      <td>323.0</td>\n",
              "      <td>72.0</td>\n",
              "      <td>male</td>\n",
              "    </tr>\n",
              "  </tbody>\n",
              "</table>\n",
              "</div>"
            ],
            "text/plain": [
              "                                     MEM_Id  Otimes  ...  vArtsy  GENDER_adj\n",
              "0  c896e578c8bcf05212cc33c24f35335cdb26f496    36.0  ...     2.0      female\n",
              "1  abb6cc6a9c4eb90c78f193121cc338b923fd4817    18.0  ...     1.0        male\n",
              "2  ace7d660024060d329dd811bb18f99da3ef51cc3    17.0  ...     4.0      female\n",
              "3  a4c5a654af7c505eb892ab6d23eaa688442999cc    17.0  ...     4.0        male\n",
              "4  3983bcad22387772779b3f71f8031b6cedbcff2a    16.0  ...    72.0        male\n",
              "\n",
              "[5 rows x 42 columns]"
            ]
          },
          "metadata": {
            "tags": []
          },
          "execution_count": 117
        }
      ]
    },
    {
      "cell_type": "markdown",
      "metadata": {
        "id": "7TPxgq_SUX1t"
      },
      "source": [
        "#Create Dataframe"
      ]
    },
    {
      "cell_type": "code",
      "metadata": {
        "colab": {
          "base_uri": "https://localhost:8080/",
          "height": 394
        },
        "id": "aE_pOkO4IxU4",
        "outputId": "1fe9384e-b02b-4b31-ccdd-55af57178ce1"
      },
      "source": [
        "df = bq\n",
        "df.CREDTM = pd.to_datetime(df.CREDTM)\n",
        "today = dt.datetime.now()\n",
        "df['Lasting'] = today - df.CREDTM\n",
        "df['Lasting'] = df['Lasting'].dt.days\n",
        "df['GENDER_adj'] = df['GENDER_adj'].map({'male': 0, 'female':1})\n",
        "df.head()"
      ],
      "execution_count": null,
      "outputs": [
        {
          "output_type": "execute_result",
          "data": {
            "text/html": [
              "<div>\n",
              "<style scoped>\n",
              "    .dataframe tbody tr th:only-of-type {\n",
              "        vertical-align: middle;\n",
              "    }\n",
              "\n",
              "    .dataframe tbody tr th {\n",
              "        vertical-align: top;\n",
              "    }\n",
              "\n",
              "    .dataframe thead th {\n",
              "        text-align: right;\n",
              "    }\n",
              "</style>\n",
              "<table border=\"1\" class=\"dataframe\">\n",
              "  <thead>\n",
              "    <tr style=\"text-align: right;\">\n",
              "      <th></th>\n",
              "      <th>MEM_Id</th>\n",
              "      <th>Otimes</th>\n",
              "      <th>countBuyProduct</th>\n",
              "      <th>countViewProduct</th>\n",
              "      <th>Ord_20SS</th>\n",
              "      <th>Ord_20AW</th>\n",
              "      <th>Ord_21SS</th>\n",
              "      <th>Ttl_Ord</th>\n",
              "      <th>AOV</th>\n",
              "      <th>GENDER</th>\n",
              "      <th>GENDER_exp</th>\n",
              "      <th>AGE</th>\n",
              "      <th>CREDTM</th>\n",
              "      <th>Elegant</th>\n",
              "      <th>Modern</th>\n",
              "      <th>Minimal</th>\n",
              "      <th>_Natural</th>\n",
              "      <th>Girly</th>\n",
              "      <th>Vacation</th>\n",
              "      <th>Vintage</th>\n",
              "      <th>Rock</th>\n",
              "      <th>Outdoor</th>\n",
              "      <th>Street</th>\n",
              "      <th>Mode</th>\n",
              "      <th>Gentle</th>\n",
              "      <th>Preppie</th>\n",
              "      <th>Artsy</th>\n",
              "      <th>vElegant</th>\n",
              "      <th>vModern</th>\n",
              "      <th>vMinimal</th>\n",
              "      <th>v_Natural</th>\n",
              "      <th>vGirly</th>\n",
              "      <th>vVacation</th>\n",
              "      <th>vVintage</th>\n",
              "      <th>vRock</th>\n",
              "      <th>vOutdoor</th>\n",
              "      <th>vStreet</th>\n",
              "      <th>vMode</th>\n",
              "      <th>vGentle</th>\n",
              "      <th>vPreppie</th>\n",
              "      <th>vArtsy</th>\n",
              "      <th>GENDER_adj</th>\n",
              "      <th>Lasting</th>\n",
              "    </tr>\n",
              "  </thead>\n",
              "  <tbody>\n",
              "    <tr>\n",
              "      <th>0</th>\n",
              "      <td>c896e578c8bcf05212cc33c24f35335cdb26f496</td>\n",
              "      <td>36.0</td>\n",
              "      <td>27.0</td>\n",
              "      <td>31.0</td>\n",
              "      <td>0.0</td>\n",
              "      <td>0.0</td>\n",
              "      <td>36.0</td>\n",
              "      <td>126131.0</td>\n",
              "      <td>3504.0</td>\n",
              "      <td>None</td>\n",
              "      <td>female</td>\n",
              "      <td>33.0</td>\n",
              "      <td>2021-01-23 15:25:04</td>\n",
              "      <td>0.0</td>\n",
              "      <td>0.0</td>\n",
              "      <td>0.0</td>\n",
              "      <td>0.0</td>\n",
              "      <td>0.0</td>\n",
              "      <td>0.0</td>\n",
              "      <td>0.0</td>\n",
              "      <td>0.0</td>\n",
              "      <td>2.0</td>\n",
              "      <td>2.0</td>\n",
              "      <td>0.0</td>\n",
              "      <td>0.0</td>\n",
              "      <td>0.0</td>\n",
              "      <td>0.0</td>\n",
              "      <td>0.0</td>\n",
              "      <td>3.0</td>\n",
              "      <td>13.0</td>\n",
              "      <td>12.0</td>\n",
              "      <td>0.0</td>\n",
              "      <td>0.0</td>\n",
              "      <td>1.0</td>\n",
              "      <td>0.0</td>\n",
              "      <td>21.0</td>\n",
              "      <td>24.0</td>\n",
              "      <td>3.0</td>\n",
              "      <td>3.0</td>\n",
              "      <td>2.0</td>\n",
              "      <td>2.0</td>\n",
              "      <td>1</td>\n",
              "      <td>203</td>\n",
              "    </tr>\n",
              "    <tr>\n",
              "      <th>1</th>\n",
              "      <td>abb6cc6a9c4eb90c78f193121cc338b923fd4817</td>\n",
              "      <td>18.0</td>\n",
              "      <td>22.0</td>\n",
              "      <td>38.0</td>\n",
              "      <td>0.0</td>\n",
              "      <td>10.0</td>\n",
              "      <td>8.0</td>\n",
              "      <td>72290.0</td>\n",
              "      <td>4016.0</td>\n",
              "      <td>None</td>\n",
              "      <td>male</td>\n",
              "      <td>NaN</td>\n",
              "      <td>2020-10-02 14:46:02</td>\n",
              "      <td>3.0</td>\n",
              "      <td>0.0</td>\n",
              "      <td>6.0</td>\n",
              "      <td>0.0</td>\n",
              "      <td>3.0</td>\n",
              "      <td>1.0</td>\n",
              "      <td>4.0</td>\n",
              "      <td>1.0</td>\n",
              "      <td>1.0</td>\n",
              "      <td>4.0</td>\n",
              "      <td>0.0</td>\n",
              "      <td>1.0</td>\n",
              "      <td>5.0</td>\n",
              "      <td>1.0</td>\n",
              "      <td>8.0</td>\n",
              "      <td>5.0</td>\n",
              "      <td>7.0</td>\n",
              "      <td>4.0</td>\n",
              "      <td>9.0</td>\n",
              "      <td>6.0</td>\n",
              "      <td>7.0</td>\n",
              "      <td>3.0</td>\n",
              "      <td>7.0</td>\n",
              "      <td>21.0</td>\n",
              "      <td>5.0</td>\n",
              "      <td>0.0</td>\n",
              "      <td>4.0</td>\n",
              "      <td>1.0</td>\n",
              "      <td>0</td>\n",
              "      <td>316</td>\n",
              "    </tr>\n",
              "    <tr>\n",
              "      <th>2</th>\n",
              "      <td>ace7d660024060d329dd811bb18f99da3ef51cc3</td>\n",
              "      <td>17.0</td>\n",
              "      <td>49.0</td>\n",
              "      <td>139.0</td>\n",
              "      <td>5.0</td>\n",
              "      <td>8.0</td>\n",
              "      <td>4.0</td>\n",
              "      <td>89379.0</td>\n",
              "      <td>5258.0</td>\n",
              "      <td>female</td>\n",
              "      <td>female</td>\n",
              "      <td>41.0</td>\n",
              "      <td>2020-03-17 11:09:26</td>\n",
              "      <td>2.0</td>\n",
              "      <td>1.0</td>\n",
              "      <td>11.0</td>\n",
              "      <td>6.0</td>\n",
              "      <td>11.0</td>\n",
              "      <td>2.0</td>\n",
              "      <td>0.0</td>\n",
              "      <td>0.0</td>\n",
              "      <td>8.0</td>\n",
              "      <td>9.0</td>\n",
              "      <td>1.0</td>\n",
              "      <td>0.0</td>\n",
              "      <td>6.0</td>\n",
              "      <td>0.0</td>\n",
              "      <td>27.0</td>\n",
              "      <td>15.0</td>\n",
              "      <td>46.0</td>\n",
              "      <td>29.0</td>\n",
              "      <td>15.0</td>\n",
              "      <td>21.0</td>\n",
              "      <td>7.0</td>\n",
              "      <td>0.0</td>\n",
              "      <td>60.0</td>\n",
              "      <td>52.0</td>\n",
              "      <td>15.0</td>\n",
              "      <td>5.0</td>\n",
              "      <td>13.0</td>\n",
              "      <td>4.0</td>\n",
              "      <td>1</td>\n",
              "      <td>516</td>\n",
              "    </tr>\n",
              "    <tr>\n",
              "      <th>3</th>\n",
              "      <td>a4c5a654af7c505eb892ab6d23eaa688442999cc</td>\n",
              "      <td>17.0</td>\n",
              "      <td>29.0</td>\n",
              "      <td>551.0</td>\n",
              "      <td>3.0</td>\n",
              "      <td>14.0</td>\n",
              "      <td>0.0</td>\n",
              "      <td>45782.0</td>\n",
              "      <td>2693.0</td>\n",
              "      <td>male</td>\n",
              "      <td>male</td>\n",
              "      <td>NaN</td>\n",
              "      <td>2020-05-17 15:35:17</td>\n",
              "      <td>17.0</td>\n",
              "      <td>10.0</td>\n",
              "      <td>17.0</td>\n",
              "      <td>7.0</td>\n",
              "      <td>3.0</td>\n",
              "      <td>0.0</td>\n",
              "      <td>8.0</td>\n",
              "      <td>0.0</td>\n",
              "      <td>0.0</td>\n",
              "      <td>9.0</td>\n",
              "      <td>10.0</td>\n",
              "      <td>4.0</td>\n",
              "      <td>4.0</td>\n",
              "      <td>0.0</td>\n",
              "      <td>109.0</td>\n",
              "      <td>72.0</td>\n",
              "      <td>679.0</td>\n",
              "      <td>278.0</td>\n",
              "      <td>48.0</td>\n",
              "      <td>19.0</td>\n",
              "      <td>333.0</td>\n",
              "      <td>20.0</td>\n",
              "      <td>118.0</td>\n",
              "      <td>375.0</td>\n",
              "      <td>72.0</td>\n",
              "      <td>258.0</td>\n",
              "      <td>514.0</td>\n",
              "      <td>4.0</td>\n",
              "      <td>0</td>\n",
              "      <td>454</td>\n",
              "    </tr>\n",
              "    <tr>\n",
              "      <th>4</th>\n",
              "      <td>3983bcad22387772779b3f71f8031b6cedbcff2a</td>\n",
              "      <td>16.0</td>\n",
              "      <td>44.0</td>\n",
              "      <td>453.0</td>\n",
              "      <td>2.0</td>\n",
              "      <td>2.0</td>\n",
              "      <td>12.0</td>\n",
              "      <td>80301.0</td>\n",
              "      <td>5019.0</td>\n",
              "      <td>male</td>\n",
              "      <td>male</td>\n",
              "      <td>34.0</td>\n",
              "      <td>2020-07-10 17:33:42</td>\n",
              "      <td>4.0</td>\n",
              "      <td>1.0</td>\n",
              "      <td>42.0</td>\n",
              "      <td>10.0</td>\n",
              "      <td>0.0</td>\n",
              "      <td>2.0</td>\n",
              "      <td>0.0</td>\n",
              "      <td>0.0</td>\n",
              "      <td>0.0</td>\n",
              "      <td>0.0</td>\n",
              "      <td>1.0</td>\n",
              "      <td>18.0</td>\n",
              "      <td>22.0</td>\n",
              "      <td>3.0</td>\n",
              "      <td>94.0</td>\n",
              "      <td>9.0</td>\n",
              "      <td>793.0</td>\n",
              "      <td>274.0</td>\n",
              "      <td>3.0</td>\n",
              "      <td>8.0</td>\n",
              "      <td>34.0</td>\n",
              "      <td>3.0</td>\n",
              "      <td>6.0</td>\n",
              "      <td>53.0</td>\n",
              "      <td>9.0</td>\n",
              "      <td>302.0</td>\n",
              "      <td>323.0</td>\n",
              "      <td>72.0</td>\n",
              "      <td>0</td>\n",
              "      <td>400</td>\n",
              "    </tr>\n",
              "  </tbody>\n",
              "</table>\n",
              "</div>"
            ],
            "text/plain": [
              "                                     MEM_Id  Otimes  ...  GENDER_adj  Lasting\n",
              "0  c896e578c8bcf05212cc33c24f35335cdb26f496    36.0  ...           1      203\n",
              "1  abb6cc6a9c4eb90c78f193121cc338b923fd4817    18.0  ...           0      316\n",
              "2  ace7d660024060d329dd811bb18f99da3ef51cc3    17.0  ...           1      516\n",
              "3  a4c5a654af7c505eb892ab6d23eaa688442999cc    17.0  ...           0      454\n",
              "4  3983bcad22387772779b3f71f8031b6cedbcff2a    16.0  ...           0      400\n",
              "\n",
              "[5 rows x 43 columns]"
            ]
          },
          "metadata": {
            "tags": []
          },
          "execution_count": 118
        }
      ]
    },
    {
      "cell_type": "code",
      "metadata": {
        "colab": {
          "base_uri": "https://localhost:8080/",
          "height": 361
        },
        "id": "B_cRVSJBDx2L",
        "outputId": "4673c56e-f283-492c-9408-e2a199fd3bef"
      },
      "source": [
        "sns.heatmap(df.isnull())"
      ],
      "execution_count": null,
      "outputs": [
        {
          "output_type": "execute_result",
          "data": {
            "text/plain": [
              "<matplotlib.axes._subplots.AxesSubplot at 0x7f6ea5f442d0>"
            ]
          },
          "metadata": {
            "tags": []
          },
          "execution_count": 119
        },
        {
          "output_type": "display_data",
          "data": {
            "image/png": "[encoded data removed]",
            "text/plain": [
              "<Figure size 432x288 with 2 Axes>"
            ]
          },
          "metadata": {
            "tags": [],
            "needs_background": "light"
          }
        }
      ]
    },
    {
      "cell_type": "code",
      "metadata": {
        "colab": {
          "base_uri": "https://localhost:8080/",
          "height": 224
        },
        "id": "20E__-NEGd8w",
        "outputId": "480d4859-57c3-475b-879f-9ca8fee3f438"
      },
      "source": [
        "df = df.fillna(value = 0)\n",
        "df.head()"
      ],
      "execution_count": null,
      "outputs": [
        {
          "output_type": "execute_result",
          "data": {
            "text/html": [
              "<div>\n",
              "<style scoped>\n",
              "    .dataframe tbody tr th:only-of-type {\n",
              "        vertical-align: middle;\n",
              "    }\n",
              "\n",
              "    .dataframe tbody tr th {\n",
              "        vertical-align: top;\n",
              "    }\n",
              "\n",
              "    .dataframe thead th {\n",
              "        text-align: right;\n",
              "    }\n",
              "</style>\n",
              "<table border=\"1\" class=\"dataframe\">\n",
              "  <thead>\n",
              "    <tr style=\"text-align: right;\">\n",
              "      <th></th>\n",
              "      <th>MEM_Id</th>\n",
              "      <th>Otimes</th>\n",
              "      <th>countBuyProduct</th>\n",
              "      <th>countViewProduct</th>\n",
              "      <th>Ord_20SS</th>\n",
              "      <th>Ord_20AW</th>\n",
              "      <th>Ord_21SS</th>\n",
              "      <th>Ttl_Ord</th>\n",
              "      <th>AOV</th>\n",
              "      <th>Lasting</th>\n",
              "      <th>GENDER_adj</th>\n",
              "      <th>Elegant</th>\n",
              "      <th>Modern</th>\n",
              "      <th>Minimal</th>\n",
              "      <th>_Natural</th>\n",
              "      <th>Girly</th>\n",
              "      <th>Vacation</th>\n",
              "      <th>Vintage</th>\n",
              "      <th>Rock</th>\n",
              "      <th>Outdoor</th>\n",
              "      <th>Street</th>\n",
              "      <th>Mode</th>\n",
              "      <th>Gentle</th>\n",
              "      <th>Preppie</th>\n",
              "      <th>Artsy</th>\n",
              "    </tr>\n",
              "  </thead>\n",
              "  <tbody>\n",
              "    <tr>\n",
              "      <th>0</th>\n",
              "      <td>c896e578c8bcf05212cc33c24f35335cdb26f496</td>\n",
              "      <td>36.0</td>\n",
              "      <td>27.0</td>\n",
              "      <td>31.0</td>\n",
              "      <td>0.0</td>\n",
              "      <td>0.0</td>\n",
              "      <td>36.0</td>\n",
              "      <td>126131.0</td>\n",
              "      <td>3504.0</td>\n",
              "      <td>203</td>\n",
              "      <td>1</td>\n",
              "      <td>0.000000</td>\n",
              "      <td>0.020833</td>\n",
              "      <td>0.090278</td>\n",
              "      <td>0.083333</td>\n",
              "      <td>0.000000</td>\n",
              "      <td>0.000000</td>\n",
              "      <td>0.006944</td>\n",
              "      <td>0.000000</td>\n",
              "      <td>0.354167</td>\n",
              "      <td>0.375000</td>\n",
              "      <td>0.020833</td>\n",
              "      <td>0.020833</td>\n",
              "      <td>0.013889</td>\n",
              "      <td>0.013889</td>\n",
              "    </tr>\n",
              "    <tr>\n",
              "      <th>1</th>\n",
              "      <td>abb6cc6a9c4eb90c78f193121cc338b923fd4817</td>\n",
              "      <td>18.0</td>\n",
              "      <td>22.0</td>\n",
              "      <td>38.0</td>\n",
              "      <td>0.0</td>\n",
              "      <td>10.0</td>\n",
              "      <td>8.0</td>\n",
              "      <td>72290.0</td>\n",
              "      <td>4016.0</td>\n",
              "      <td>316</td>\n",
              "      <td>0</td>\n",
              "      <td>0.098696</td>\n",
              "      <td>0.009311</td>\n",
              "      <td>0.180633</td>\n",
              "      <td>0.007449</td>\n",
              "      <td>0.100559</td>\n",
              "      <td>0.039106</td>\n",
              "      <td>0.124767</td>\n",
              "      <td>0.033520</td>\n",
              "      <td>0.040968</td>\n",
              "      <td>0.150838</td>\n",
              "      <td>0.009311</td>\n",
              "      <td>0.027933</td>\n",
              "      <td>0.147114</td>\n",
              "      <td>0.029795</td>\n",
              "    </tr>\n",
              "    <tr>\n",
              "      <th>2</th>\n",
              "      <td>ace7d660024060d329dd811bb18f99da3ef51cc3</td>\n",
              "      <td>17.0</td>\n",
              "      <td>49.0</td>\n",
              "      <td>139.0</td>\n",
              "      <td>5.0</td>\n",
              "      <td>8.0</td>\n",
              "      <td>4.0</td>\n",
              "      <td>89379.0</td>\n",
              "      <td>5258.0</td>\n",
              "      <td>516</td>\n",
              "      <td>1</td>\n",
              "      <td>0.048969</td>\n",
              "      <td>0.025773</td>\n",
              "      <td>0.181271</td>\n",
              "      <td>0.102234</td>\n",
              "      <td>0.154639</td>\n",
              "      <td>0.043814</td>\n",
              "      <td>0.006014</td>\n",
              "      <td>0.000000</td>\n",
              "      <td>0.154639</td>\n",
              "      <td>0.160653</td>\n",
              "      <td>0.025773</td>\n",
              "      <td>0.004296</td>\n",
              "      <td>0.088488</td>\n",
              "      <td>0.003436</td>\n",
              "    </tr>\n",
              "    <tr>\n",
              "      <th>3</th>\n",
              "      <td>a4c5a654af7c505eb892ab6d23eaa688442999cc</td>\n",
              "      <td>17.0</td>\n",
              "      <td>29.0</td>\n",
              "      <td>551.0</td>\n",
              "      <td>3.0</td>\n",
              "      <td>14.0</td>\n",
              "      <td>0.0</td>\n",
              "      <td>45782.0</td>\n",
              "      <td>2693.0</td>\n",
              "      <td>454</td>\n",
              "      <td>0</td>\n",
              "      <td>0.085971</td>\n",
              "      <td>0.052433</td>\n",
              "      <td>0.220595</td>\n",
              "      <td>0.090458</td>\n",
              "      <td>0.021965</td>\n",
              "      <td>0.004487</td>\n",
              "      <td>0.106991</td>\n",
              "      <td>0.004724</td>\n",
              "      <td>0.027870</td>\n",
              "      <td>0.120453</td>\n",
              "      <td>0.052433</td>\n",
              "      <td>0.075106</td>\n",
              "      <td>0.135569</td>\n",
              "      <td>0.000945</td>\n",
              "    </tr>\n",
              "    <tr>\n",
              "      <th>4</th>\n",
              "      <td>3983bcad22387772779b3f71f8031b6cedbcff2a</td>\n",
              "      <td>16.0</td>\n",
              "      <td>44.0</td>\n",
              "      <td>453.0</td>\n",
              "      <td>2.0</td>\n",
              "      <td>2.0</td>\n",
              "      <td>12.0</td>\n",
              "      <td>80301.0</td>\n",
              "      <td>5019.0</td>\n",
              "      <td>400</td>\n",
              "      <td>0</td>\n",
              "      <td>0.043651</td>\n",
              "      <td>0.006803</td>\n",
              "      <td>0.403345</td>\n",
              "      <td>0.120181</td>\n",
              "      <td>0.000850</td>\n",
              "      <td>0.010771</td>\n",
              "      <td>0.009637</td>\n",
              "      <td>0.000850</td>\n",
              "      <td>0.001701</td>\n",
              "      <td>0.015023</td>\n",
              "      <td>0.006803</td>\n",
              "      <td>0.162132</td>\n",
              "      <td>0.185091</td>\n",
              "      <td>0.033163</td>\n",
              "    </tr>\n",
              "  </tbody>\n",
              "</table>\n",
              "</div>"
            ],
            "text/plain": [
              "                                     MEM_Id  Otimes  ...   Preppie     Artsy\n",
              "0  c896e578c8bcf05212cc33c24f35335cdb26f496    36.0  ...  0.013889  0.013889\n",
              "1  abb6cc6a9c4eb90c78f193121cc338b923fd4817    18.0  ...  0.147114  0.029795\n",
              "2  ace7d660024060d329dd811bb18f99da3ef51cc3    17.0  ...  0.088488  0.003436\n",
              "3  a4c5a654af7c505eb892ab6d23eaa688442999cc    17.0  ...  0.135569  0.000945\n",
              "4  3983bcad22387772779b3f71f8031b6cedbcff2a    16.0  ...  0.185091  0.033163\n",
              "\n",
              "[5 rows x 25 columns]"
            ]
          },
          "metadata": {
            "tags": []
          },
          "execution_count": 131
        }
      ]
    },
    {
      "cell_type": "code",
      "metadata": {
        "id": "q26kUdj4IT_h"
      },
      "source": [
        "tastes = ['Elegant','Modern','Minimal',\t'_Natural',\t'Girly','Vacation'\t,'Vintage',\t'Rock',\t'Outdoor',\t'Street',\t'Mode',\t'Gentle',\t'Preppie',\t'Artsy']\n",
        "for taste in tastes:\n",
        "  df[taste] = df[taste] * 15 + df['v'+taste]\n",
        "\n",
        "df['sum'] = df[tastes].sum(axis = 1)"
      ],
      "execution_count": null,
      "outputs": []
    },
    {
      "cell_type": "code",
      "metadata": {
        "id": "58vT2wTZNe6O"
      },
      "source": [
        "for taste in tastes:\n",
        "  df[taste] = df[taste] / df['sum']"
      ],
      "execution_count": null,
      "outputs": []
    },
    {
      "cell_type": "code",
      "metadata": {
        "colab": {
          "base_uri": "https://localhost:8080/"
        },
        "id": "X_0eM3moN0Wz",
        "outputId": "ea4bbfe8-d545-4a0f-a7b3-4bdbde9f8552"
      },
      "source": [
        "profile = ['Otimes',\t'countBuyProduct',\t'countViewProduct',\t'Ord_20SS',\t'Ord_20AW',\t'Ord_21SS',\t'Ttl_Ord',\t'AOV','Lasting','GENDER_adj']\n",
        "columns =  ['MEM_Id'] + profile + tastes\n",
        "print(columns)"
      ],
      "execution_count": null,
      "outputs": [
        {
          "output_type": "stream",
          "text": [
            "['MEM_Id', 'Otimes', 'countBuyProduct', 'countViewProduct', 'Ord_20SS', 'Ord_20AW', 'Ord_21SS', 'Ttl_Ord', 'AOV', 'Lasting', 'GENDER_adj', 'Elegant', 'Modern', 'Minimal', '_Natural', 'Girly', 'Vacation', 'Vintage', 'Rock', 'Outdoor', 'Street', 'Mode', 'Gentle', 'Preppie', 'Artsy']\n"
          ],
          "name": "stdout"
        }
      ]
    },
    {
      "cell_type": "code",
      "metadata": {
        "colab": {
          "base_uri": "https://localhost:8080/",
          "height": 204
        },
        "id": "1INf6DeOIdJD",
        "outputId": "868f0452-c9ce-4011-dbb5-9fd67fbb921e"
      },
      "source": [
        "df= df[(df['sum'] > 0) & (df['Otimes'] > 0)]\n",
        "df = df.loc[:,columns]\n",
        "df_t = df.loc[:,tastes] #df_fil.loc[:,columns]\n",
        "df_t.tail()"
      ],
      "execution_count": null,
      "outputs": [
        {
          "output_type": "execute_result",
          "data": {
            "text/html": [
              "<div>\n",
              "<style scoped>\n",
              "    .dataframe tbody tr th:only-of-type {\n",
              "        vertical-align: middle;\n",
              "    }\n",
              "\n",
              "    .dataframe tbody tr th {\n",
              "        vertical-align: top;\n",
              "    }\n",
              "\n",
              "    .dataframe thead th {\n",
              "        text-align: right;\n",
              "    }\n",
              "</style>\n",
              "<table border=\"1\" class=\"dataframe\">\n",
              "  <thead>\n",
              "    <tr style=\"text-align: right;\">\n",
              "      <th></th>\n",
              "      <th>Elegant</th>\n",
              "      <th>Modern</th>\n",
              "      <th>Minimal</th>\n",
              "      <th>_Natural</th>\n",
              "      <th>Girly</th>\n",
              "      <th>Vacation</th>\n",
              "      <th>Vintage</th>\n",
              "      <th>Rock</th>\n",
              "      <th>Outdoor</th>\n",
              "      <th>Street</th>\n",
              "      <th>Mode</th>\n",
              "      <th>Gentle</th>\n",
              "      <th>Preppie</th>\n",
              "      <th>Artsy</th>\n",
              "    </tr>\n",
              "  </thead>\n",
              "  <tbody>\n",
              "    <tr>\n",
              "      <th>10022</th>\n",
              "      <td>0.0</td>\n",
              "      <td>0.0</td>\n",
              "      <td>0.760000</td>\n",
              "      <td>0.080000</td>\n",
              "      <td>0.0</td>\n",
              "      <td>0.0</td>\n",
              "      <td>0.040000</td>\n",
              "      <td>0.0</td>\n",
              "      <td>0.000000</td>\n",
              "      <td>0.040000</td>\n",
              "      <td>0.0</td>\n",
              "      <td>0.04</td>\n",
              "      <td>0.04</td>\n",
              "      <td>0.0</td>\n",
              "    </tr>\n",
              "    <tr>\n",
              "      <th>10024</th>\n",
              "      <td>0.0</td>\n",
              "      <td>0.0</td>\n",
              "      <td>0.027778</td>\n",
              "      <td>0.027778</td>\n",
              "      <td>0.0</td>\n",
              "      <td>0.0</td>\n",
              "      <td>0.027778</td>\n",
              "      <td>0.0</td>\n",
              "      <td>0.444444</td>\n",
              "      <td>0.472222</td>\n",
              "      <td>0.0</td>\n",
              "      <td>0.00</td>\n",
              "      <td>0.00</td>\n",
              "      <td>0.0</td>\n",
              "    </tr>\n",
              "    <tr>\n",
              "      <th>10025</th>\n",
              "      <td>0.0</td>\n",
              "      <td>0.0</td>\n",
              "      <td>0.966667</td>\n",
              "      <td>0.033333</td>\n",
              "      <td>0.0</td>\n",
              "      <td>0.0</td>\n",
              "      <td>0.000000</td>\n",
              "      <td>0.0</td>\n",
              "      <td>0.000000</td>\n",
              "      <td>0.000000</td>\n",
              "      <td>0.0</td>\n",
              "      <td>0.00</td>\n",
              "      <td>0.00</td>\n",
              "      <td>0.0</td>\n",
              "    </tr>\n",
              "    <tr>\n",
              "      <th>10027</th>\n",
              "      <td>0.0</td>\n",
              "      <td>0.0</td>\n",
              "      <td>0.484848</td>\n",
              "      <td>0.484848</td>\n",
              "      <td>0.0</td>\n",
              "      <td>0.0</td>\n",
              "      <td>0.000000</td>\n",
              "      <td>0.0</td>\n",
              "      <td>0.015152</td>\n",
              "      <td>0.015152</td>\n",
              "      <td>0.0</td>\n",
              "      <td>0.00</td>\n",
              "      <td>0.00</td>\n",
              "      <td>0.0</td>\n",
              "    </tr>\n",
              "    <tr>\n",
              "      <th>10029</th>\n",
              "      <td>0.0</td>\n",
              "      <td>0.0</td>\n",
              "      <td>0.057692</td>\n",
              "      <td>0.000000</td>\n",
              "      <td>0.0</td>\n",
              "      <td>0.0</td>\n",
              "      <td>0.000000</td>\n",
              "      <td>0.0</td>\n",
              "      <td>0.942308</td>\n",
              "      <td>0.000000</td>\n",
              "      <td>0.0</td>\n",
              "      <td>0.00</td>\n",
              "      <td>0.00</td>\n",
              "      <td>0.0</td>\n",
              "    </tr>\n",
              "  </tbody>\n",
              "</table>\n",
              "</div>"
            ],
            "text/plain": [
              "       Elegant  Modern   Minimal  _Natural  ...  Mode  Gentle  Preppie  Artsy\n",
              "10022      0.0     0.0  0.760000  0.080000  ...   0.0    0.04     0.04    0.0\n",
              "10024      0.0     0.0  0.027778  0.027778  ...   0.0    0.00     0.00    0.0\n",
              "10025      0.0     0.0  0.966667  0.033333  ...   0.0    0.00     0.00    0.0\n",
              "10027      0.0     0.0  0.484848  0.484848  ...   0.0    0.00     0.00    0.0\n",
              "10029      0.0     0.0  0.057692  0.000000  ...   0.0    0.00     0.00    0.0\n",
              "\n",
              "[5 rows x 14 columns]"
            ]
          },
          "metadata": {
            "tags": []
          },
          "execution_count": 125
        }
      ]
    },
    {
      "cell_type": "markdown",
      "metadata": {
        "id": "Mt7hhXHaUhwE"
      },
      "source": [
        "#K-means Clustering "
      ]
    },
    {
      "cell_type": "code",
      "metadata": {
        "id": "iQ05fJ_3L8Bv"
      },
      "source": [
        "from sklearn.cluster import KMeans\n",
        "\n",
        "clusters = 5\n",
        "\n",
        "algorithm = KMeans(n_clusters=clusters, random_state=31)"
      ],
      "execution_count": null,
      "outputs": []
    },
    {
      "cell_type": "code",
      "metadata": {
        "colab": {
          "base_uri": "https://localhost:8080/"
        },
        "id": "Tz0Mx8ITMSsX",
        "outputId": "86b4c391-216e-499b-bc2f-f51cb246db8c"
      },
      "source": [
        "y_pred = algorithm.fit_predict(df_t)\n",
        "print(y_pred[:20])"
      ],
      "execution_count": null,
      "outputs": [
        {
          "output_type": "stream",
          "text": [
            "[1 0 0 0 0 0 4 3 0 0 0 0 0 0 0 0 4 0 0 0]\n"
          ],
          "name": "stdout"
        }
      ]
    },
    {
      "cell_type": "code",
      "metadata": {
        "colab": {
          "base_uri": "https://localhost:8080/",
          "height": 255
        },
        "id": "mzxBnk1bMyib",
        "outputId": "0c049479-602e-41e1-a9ac-864a4f95826e"
      },
      "source": [
        "df['class'] = y_pred\n",
        "df_add = df.groupby('class').mean()\n",
        "df_add = df_add.reindex(index = [2,1,3,4,0])\n",
        "df_add"
      ],
      "execution_count": null,
      "outputs": [
        {
          "output_type": "execute_result",
          "data": {
            "text/html": [
              "<div>\n",
              "<style scoped>\n",
              "    .dataframe tbody tr th:only-of-type {\n",
              "        vertical-align: middle;\n",
              "    }\n",
              "\n",
              "    .dataframe tbody tr th {\n",
              "        vertical-align: top;\n",
              "    }\n",
              "\n",
              "    .dataframe thead th {\n",
              "        text-align: right;\n",
              "    }\n",
              "</style>\n",
              "<table border=\"1\" class=\"dataframe\">\n",
              "  <thead>\n",
              "    <tr style=\"text-align: right;\">\n",
              "      <th></th>\n",
              "      <th>Otimes</th>\n",
              "      <th>countBuyProduct</th>\n",
              "      <th>countViewProduct</th>\n",
              "      <th>Ord_20SS</th>\n",
              "      <th>Ord_20AW</th>\n",
              "      <th>Ord_21SS</th>\n",
              "      <th>Ttl_Ord</th>\n",
              "      <th>AOV</th>\n",
              "      <th>Lasting</th>\n",
              "      <th>GENDER_adj</th>\n",
              "      <th>Elegant</th>\n",
              "      <th>Modern</th>\n",
              "      <th>Minimal</th>\n",
              "      <th>_Natural</th>\n",
              "      <th>Girly</th>\n",
              "      <th>Vacation</th>\n",
              "      <th>Vintage</th>\n",
              "      <th>Rock</th>\n",
              "      <th>Outdoor</th>\n",
              "      <th>Street</th>\n",
              "      <th>Mode</th>\n",
              "      <th>Gentle</th>\n",
              "      <th>Preppie</th>\n",
              "      <th>Artsy</th>\n",
              "    </tr>\n",
              "    <tr>\n",
              "      <th>class</th>\n",
              "      <th></th>\n",
              "      <th></th>\n",
              "      <th></th>\n",
              "      <th></th>\n",
              "      <th></th>\n",
              "      <th></th>\n",
              "      <th></th>\n",
              "      <th></th>\n",
              "      <th></th>\n",
              "      <th></th>\n",
              "      <th></th>\n",
              "      <th></th>\n",
              "      <th></th>\n",
              "      <th></th>\n",
              "      <th></th>\n",
              "      <th></th>\n",
              "      <th></th>\n",
              "      <th></th>\n",
              "      <th></th>\n",
              "      <th></th>\n",
              "      <th></th>\n",
              "      <th></th>\n",
              "      <th></th>\n",
              "      <th></th>\n",
              "    </tr>\n",
              "  </thead>\n",
              "  <tbody>\n",
              "    <tr>\n",
              "      <th>2</th>\n",
              "      <td>1.222437</td>\n",
              "      <td>2.248549</td>\n",
              "      <td>13.418762</td>\n",
              "      <td>0.198259</td>\n",
              "      <td>0.221470</td>\n",
              "      <td>0.802708</td>\n",
              "      <td>2323.352998</td>\n",
              "      <td>1864.581238</td>\n",
              "      <td>159.620890</td>\n",
              "      <td>0.606383</td>\n",
              "      <td>0.030238</td>\n",
              "      <td>0.003370</td>\n",
              "      <td>0.834336</td>\n",
              "      <td>0.049362</td>\n",
              "      <td>0.006922</td>\n",
              "      <td>0.008977</td>\n",
              "      <td>0.011502</td>\n",
              "      <td>0.001260</td>\n",
              "      <td>0.010384</td>\n",
              "      <td>0.022084</td>\n",
              "      <td>0.003370</td>\n",
              "      <td>0.004085</td>\n",
              "      <td>0.011312</td>\n",
              "      <td>0.002798</td>\n",
              "    </tr>\n",
              "    <tr>\n",
              "      <th>1</th>\n",
              "      <td>1.173184</td>\n",
              "      <td>1.817505</td>\n",
              "      <td>6.318436</td>\n",
              "      <td>0.090317</td>\n",
              "      <td>0.554004</td>\n",
              "      <td>0.528864</td>\n",
              "      <td>2462.366853</td>\n",
              "      <td>1966.972067</td>\n",
              "      <td>170.719739</td>\n",
              "      <td>0.499069</td>\n",
              "      <td>0.007879</td>\n",
              "      <td>0.026863</td>\n",
              "      <td>0.029143</td>\n",
              "      <td>0.012430</td>\n",
              "      <td>0.004883</td>\n",
              "      <td>0.005423</td>\n",
              "      <td>0.018714</td>\n",
              "      <td>0.000898</td>\n",
              "      <td>0.422062</td>\n",
              "      <td>0.418632</td>\n",
              "      <td>0.026863</td>\n",
              "      <td>0.011347</td>\n",
              "      <td>0.012241</td>\n",
              "      <td>0.002623</td>\n",
              "    </tr>\n",
              "    <tr>\n",
              "      <th>3</th>\n",
              "      <td>1.320856</td>\n",
              "      <td>1.871123</td>\n",
              "      <td>14.804813</td>\n",
              "      <td>0.209091</td>\n",
              "      <td>0.673797</td>\n",
              "      <td>0.437968</td>\n",
              "      <td>3734.645989</td>\n",
              "      <td>2722.498930</td>\n",
              "      <td>215.883422</td>\n",
              "      <td>0.268449</td>\n",
              "      <td>0.017410</td>\n",
              "      <td>0.005185</td>\n",
              "      <td>0.046430</td>\n",
              "      <td>0.018437</td>\n",
              "      <td>0.008629</td>\n",
              "      <td>0.009599</td>\n",
              "      <td>0.299743</td>\n",
              "      <td>0.001813</td>\n",
              "      <td>0.017813</td>\n",
              "      <td>0.289652</td>\n",
              "      <td>0.005185</td>\n",
              "      <td>0.007201</td>\n",
              "      <td>0.270004</td>\n",
              "      <td>0.002900</td>\n",
              "    </tr>\n",
              "    <tr>\n",
              "      <th>4</th>\n",
              "      <td>1.543220</td>\n",
              "      <td>3.102542</td>\n",
              "      <td>27.872881</td>\n",
              "      <td>0.271186</td>\n",
              "      <td>0.844915</td>\n",
              "      <td>0.427119</td>\n",
              "      <td>4465.049153</td>\n",
              "      <td>2680.368644</td>\n",
              "      <td>237.327119</td>\n",
              "      <td>0.940678</td>\n",
              "      <td>0.062161</td>\n",
              "      <td>0.017385</td>\n",
              "      <td>0.056636</td>\n",
              "      <td>0.042136</td>\n",
              "      <td>0.308804</td>\n",
              "      <td>0.055182</td>\n",
              "      <td>0.029947</td>\n",
              "      <td>0.060989</td>\n",
              "      <td>0.024988</td>\n",
              "      <td>0.284669</td>\n",
              "      <td>0.017385</td>\n",
              "      <td>0.003024</td>\n",
              "      <td>0.024983</td>\n",
              "      <td>0.011711</td>\n",
              "    </tr>\n",
              "    <tr>\n",
              "      <th>0</th>\n",
              "      <td>1.645929</td>\n",
              "      <td>3.119266</td>\n",
              "      <td>43.453268</td>\n",
              "      <td>0.214736</td>\n",
              "      <td>0.766342</td>\n",
              "      <td>0.664851</td>\n",
              "      <td>5050.643922</td>\n",
              "      <td>2918.471904</td>\n",
              "      <td>209.178039</td>\n",
              "      <td>0.700115</td>\n",
              "      <td>0.161975</td>\n",
              "      <td>0.041576</td>\n",
              "      <td>0.274736</td>\n",
              "      <td>0.152018</td>\n",
              "      <td>0.043298</td>\n",
              "      <td>0.065047</td>\n",
              "      <td>0.046718</td>\n",
              "      <td>0.006557</td>\n",
              "      <td>0.031871</td>\n",
              "      <td>0.068332</td>\n",
              "      <td>0.041576</td>\n",
              "      <td>0.017683</td>\n",
              "      <td>0.035610</td>\n",
              "      <td>0.013003</td>\n",
              "    </tr>\n",
              "  </tbody>\n",
              "</table>\n",
              "</div>"
            ],
            "text/plain": [
              "         Otimes  countBuyProduct  ...   Preppie     Artsy\n",
              "class                             ...                    \n",
              "2      1.222437         2.248549  ...  0.011312  0.002798\n",
              "1      1.173184         1.817505  ...  0.012241  0.002623\n",
              "3      1.320856         1.871123  ...  0.270004  0.002900\n",
              "4      1.543220         3.102542  ...  0.024983  0.011711\n",
              "0      1.645929         3.119266  ...  0.035610  0.013003\n",
              "\n",
              "[5 rows x 24 columns]"
            ]
          },
          "metadata": {
            "tags": []
          },
          "execution_count": 172
        }
      ]
    },
    {
      "cell_type": "code",
      "metadata": {
        "colab": {
          "base_uri": "https://localhost:8080/",
          "height": 224
        },
        "id": "kYvQnjW1Yjou",
        "outputId": "39d98a01-5d82-4842-ae3f-d7de925c0d8f"
      },
      "source": [
        "df_cluster = df_t.groupby(y_pred).mean()\n",
        "#df_cluster = df_cluster.reset_index()\n",
        "df_cluster.index = df_cluster.index.map({0:'Rainbow',1:'StreetOutdoor',2:'Minimalist',3:'VintagePreppie',4:'GirlyStreet'})\n",
        "#df_cluster.set_index(['Rainbow','StreetOutdoor','Minimalist','VintagePreppie','GirlyStreet'])\n",
        "#df_cluster = df_cluster.drop('index', axis=1)\n",
        "df_cluster = df_cluster.reindex(index = ['Minimalist','StreetOutdoor','VintagePreppie','GirlyStreet','Rainbow'])\n",
        "df_cluster"
      ],
      "execution_count": null,
      "outputs": [
        {
          "output_type": "execute_result",
          "data": {
            "text/html": [
              "<div>\n",
              "<style scoped>\n",
              "    .dataframe tbody tr th:only-of-type {\n",
              "        vertical-align: middle;\n",
              "    }\n",
              "\n",
              "    .dataframe tbody tr th {\n",
              "        vertical-align: top;\n",
              "    }\n",
              "\n",
              "    .dataframe thead th {\n",
              "        text-align: right;\n",
              "    }\n",
              "</style>\n",
              "<table border=\"1\" class=\"dataframe\">\n",
              "  <thead>\n",
              "    <tr style=\"text-align: right;\">\n",
              "      <th></th>\n",
              "      <th>Elegant</th>\n",
              "      <th>Modern</th>\n",
              "      <th>Minimal</th>\n",
              "      <th>_Natural</th>\n",
              "      <th>Girly</th>\n",
              "      <th>Vacation</th>\n",
              "      <th>Vintage</th>\n",
              "      <th>Rock</th>\n",
              "      <th>Outdoor</th>\n",
              "      <th>Street</th>\n",
              "      <th>Mode</th>\n",
              "      <th>Gentle</th>\n",
              "      <th>Preppie</th>\n",
              "      <th>Artsy</th>\n",
              "    </tr>\n",
              "  </thead>\n",
              "  <tbody>\n",
              "    <tr>\n",
              "      <th>Minimalist</th>\n",
              "      <td>0.030238</td>\n",
              "      <td>0.003370</td>\n",
              "      <td>0.834336</td>\n",
              "      <td>0.049362</td>\n",
              "      <td>0.006922</td>\n",
              "      <td>0.008977</td>\n",
              "      <td>0.011502</td>\n",
              "      <td>0.001260</td>\n",
              "      <td>0.010384</td>\n",
              "      <td>0.022084</td>\n",
              "      <td>0.003370</td>\n",
              "      <td>0.004085</td>\n",
              "      <td>0.011312</td>\n",
              "      <td>0.002798</td>\n",
              "    </tr>\n",
              "    <tr>\n",
              "      <th>StreetOutdoor</th>\n",
              "      <td>0.007879</td>\n",
              "      <td>0.026863</td>\n",
              "      <td>0.029143</td>\n",
              "      <td>0.012430</td>\n",
              "      <td>0.004883</td>\n",
              "      <td>0.005423</td>\n",
              "      <td>0.018714</td>\n",
              "      <td>0.000898</td>\n",
              "      <td>0.422062</td>\n",
              "      <td>0.418632</td>\n",
              "      <td>0.026863</td>\n",
              "      <td>0.011347</td>\n",
              "      <td>0.012241</td>\n",
              "      <td>0.002623</td>\n",
              "    </tr>\n",
              "    <tr>\n",
              "      <th>VintagePreppie</th>\n",
              "      <td>0.017410</td>\n",
              "      <td>0.005185</td>\n",
              "      <td>0.046430</td>\n",
              "      <td>0.018437</td>\n",
              "      <td>0.008629</td>\n",
              "      <td>0.009599</td>\n",
              "      <td>0.299743</td>\n",
              "      <td>0.001813</td>\n",
              "      <td>0.017813</td>\n",
              "      <td>0.289652</td>\n",
              "      <td>0.005185</td>\n",
              "      <td>0.007201</td>\n",
              "      <td>0.270004</td>\n",
              "      <td>0.002900</td>\n",
              "    </tr>\n",
              "    <tr>\n",
              "      <th>GirlyStreet</th>\n",
              "      <td>0.062161</td>\n",
              "      <td>0.017385</td>\n",
              "      <td>0.056636</td>\n",
              "      <td>0.042136</td>\n",
              "      <td>0.308804</td>\n",
              "      <td>0.055182</td>\n",
              "      <td>0.029947</td>\n",
              "      <td>0.060989</td>\n",
              "      <td>0.024988</td>\n",
              "      <td>0.284669</td>\n",
              "      <td>0.017385</td>\n",
              "      <td>0.003024</td>\n",
              "      <td>0.024983</td>\n",
              "      <td>0.011711</td>\n",
              "    </tr>\n",
              "    <tr>\n",
              "      <th>Rainbow</th>\n",
              "      <td>0.161975</td>\n",
              "      <td>0.041576</td>\n",
              "      <td>0.274736</td>\n",
              "      <td>0.152018</td>\n",
              "      <td>0.043298</td>\n",
              "      <td>0.065047</td>\n",
              "      <td>0.046718</td>\n",
              "      <td>0.006557</td>\n",
              "      <td>0.031871</td>\n",
              "      <td>0.068332</td>\n",
              "      <td>0.041576</td>\n",
              "      <td>0.017683</td>\n",
              "      <td>0.035610</td>\n",
              "      <td>0.013003</td>\n",
              "    </tr>\n",
              "  </tbody>\n",
              "</table>\n",
              "</div>"
            ],
            "text/plain": [
              "                 Elegant    Modern   Minimal  ...    Gentle   Preppie     Artsy\n",
              "Minimalist      0.030238  0.003370  0.834336  ...  0.004085  0.011312  0.002798\n",
              "StreetOutdoor   0.007879  0.026863  0.029143  ...  0.011347  0.012241  0.002623\n",
              "VintagePreppie  0.017410  0.005185  0.046430  ...  0.007201  0.270004  0.002900\n",
              "GirlyStreet     0.062161  0.017385  0.056636  ...  0.003024  0.024983  0.011711\n",
              "Rainbow         0.161975  0.041576  0.274736  ...  0.017683  0.035610  0.013003\n",
              "\n",
              "[5 rows x 14 columns]"
            ]
          },
          "metadata": {
            "tags": []
          },
          "execution_count": 169
        }
      ]
    },
    {
      "cell_type": "code",
      "metadata": {
        "colab": {
          "base_uri": "https://localhost:8080/",
          "height": 440
        },
        "id": "jX3CJE89bnPP",
        "outputId": "7f2e47dd-360e-43d9-d9a6-146ee73fce14"
      },
      "source": [
        "df_cluster.plot(kind = 'bar', stacked =True, figsize=(10,6),colormap='jet',)\n",
        "#sns.barplot(data = df_cluster, order = 'Minimal' ,estimator=sum)\n",
        "plt.legend(bbox_to_anchor=(1.05, 1), loc='upper left', borderaxespad=0, fontsize=18)\n",
        "plt.show()\n",
        "\n",
        "#Insight\n",
        "#好むテイストが偏れば偏るほど、合計オーダー金額やAOVが下がる。\n",
        "#逆に好みが多様化なユーザーほど、オーダー回数、平均単価は上がる(ここの因果関係は注意が必要。相関はあれど因果かどうかはわからない)\n",
        "#虹色の0番(サイトの構成比と同じ男女比)\n",
        "#Street、Girlyをメインに色んなテイストをちょい載せする4番(94%が女性)\n",
        "#フレッドペリーのファン中心の3番(ほぼ男性)\n",
        "#Street、Outdoorの2色メインの1番\n",
        "#Minimalのみの2番"
      ],
      "execution_count": null,
      "outputs": [
        {
          "output_type": "display_data",
          "data": {
            "image/png": "[encoded data removed]",
            "text/plain": [
              "<Figure size 720x432 with 1 Axes>"
            ]
          },
          "metadata": {
            "tags": [],
            "needs_background": "light"
          }
        }
      ]
    },
    {
      "cell_type": "code",
      "metadata": {
        "colab": {
          "base_uri": "https://localhost:8080/",
          "height": 439
        },
        "id": "UAqK9QJEgh05",
        "outputId": "5189be7b-c563-488e-dfa5-9c4cf510cc44"
      },
      "source": [
        " df[df['class'] == 0] #3727のクラス3の人々。。。彼らは総じて高いパフォーマンスを出している"
      ],
      "execution_count": null,
      "outputs": [
        {
          "output_type": "execute_result",
          "data": {
            "text/html": [
              "<div>\n",
              "<style scoped>\n",
              "    .dataframe tbody tr th:only-of-type {\n",
              "        vertical-align: middle;\n",
              "    }\n",
              "\n",
              "    .dataframe tbody tr th {\n",
              "        vertical-align: top;\n",
              "    }\n",
              "\n",
              "    .dataframe thead th {\n",
              "        text-align: right;\n",
              "    }\n",
              "</style>\n",
              "<table border=\"1\" class=\"dataframe\">\n",
              "  <thead>\n",
              "    <tr style=\"text-align: right;\">\n",
              "      <th></th>\n",
              "      <th>MEM_Id</th>\n",
              "      <th>Otimes</th>\n",
              "      <th>countBuyProduct</th>\n",
              "      <th>countViewProduct</th>\n",
              "      <th>Ord_20SS</th>\n",
              "      <th>Ord_20AW</th>\n",
              "      <th>Ord_21SS</th>\n",
              "      <th>Ttl_Ord</th>\n",
              "      <th>AOV</th>\n",
              "      <th>Lasting</th>\n",
              "      <th>GENDER_adj</th>\n",
              "      <th>Elegant</th>\n",
              "      <th>Modern</th>\n",
              "      <th>Minimal</th>\n",
              "      <th>_Natural</th>\n",
              "      <th>Girly</th>\n",
              "      <th>Vacation</th>\n",
              "      <th>Vintage</th>\n",
              "      <th>Rock</th>\n",
              "      <th>Outdoor</th>\n",
              "      <th>Street</th>\n",
              "      <th>Mode</th>\n",
              "      <th>Gentle</th>\n",
              "      <th>Preppie</th>\n",
              "      <th>Artsy</th>\n",
              "      <th>class</th>\n",
              "    </tr>\n",
              "  </thead>\n",
              "  <tbody>\n",
              "    <tr>\n",
              "      <th>4</th>\n",
              "      <td>3983bcad22387772779b3f71f8031b6cedbcff2a</td>\n",
              "      <td>16.0</td>\n",
              "      <td>44.0</td>\n",
              "      <td>453.0</td>\n",
              "      <td>2.0</td>\n",
              "      <td>2.0</td>\n",
              "      <td>12.0</td>\n",
              "      <td>80301.0</td>\n",
              "      <td>5019.0</td>\n",
              "      <td>400</td>\n",
              "      <td>0</td>\n",
              "      <td>0.043651</td>\n",
              "      <td>0.006803</td>\n",
              "      <td>0.403345</td>\n",
              "      <td>0.120181</td>\n",
              "      <td>0.000850</td>\n",
              "      <td>0.010771</td>\n",
              "      <td>0.009637</td>\n",
              "      <td>0.000850</td>\n",
              "      <td>0.001701</td>\n",
              "      <td>0.015023</td>\n",
              "      <td>0.006803</td>\n",
              "      <td>0.162132</td>\n",
              "      <td>0.185091</td>\n",
              "      <td>0.033163</td>\n",
              "      <td>0</td>\n",
              "    </tr>\n",
              "    <tr>\n",
              "      <th>12</th>\n",
              "      <td>28614cc91dfa5aa9d3509d0b8daef14554aa80ec</td>\n",
              "      <td>13.0</td>\n",
              "      <td>22.0</td>\n",
              "      <td>50.0</td>\n",
              "      <td>6.0</td>\n",
              "      <td>3.0</td>\n",
              "      <td>4.0</td>\n",
              "      <td>19999.0</td>\n",
              "      <td>1538.0</td>\n",
              "      <td>395</td>\n",
              "      <td>1</td>\n",
              "      <td>0.164251</td>\n",
              "      <td>0.024155</td>\n",
              "      <td>0.473430</td>\n",
              "      <td>0.101449</td>\n",
              "      <td>0.083736</td>\n",
              "      <td>0.037037</td>\n",
              "      <td>0.001610</td>\n",
              "      <td>0.003221</td>\n",
              "      <td>0.000000</td>\n",
              "      <td>0.037037</td>\n",
              "      <td>0.024155</td>\n",
              "      <td>0.000000</td>\n",
              "      <td>0.001610</td>\n",
              "      <td>0.048309</td>\n",
              "      <td>0</td>\n",
              "    </tr>\n",
              "    <tr>\n",
              "      <th>14</th>\n",
              "      <td>26334ebb89e1bb5266d300e3a43726846ee111ea</td>\n",
              "      <td>12.0</td>\n",
              "      <td>22.0</td>\n",
              "      <td>248.0</td>\n",
              "      <td>1.0</td>\n",
              "      <td>9.0</td>\n",
              "      <td>2.0</td>\n",
              "      <td>17102.0</td>\n",
              "      <td>1425.0</td>\n",
              "      <td>330</td>\n",
              "      <td>0</td>\n",
              "      <td>0.079403</td>\n",
              "      <td>0.029874</td>\n",
              "      <td>0.343553</td>\n",
              "      <td>0.062107</td>\n",
              "      <td>0.048742</td>\n",
              "      <td>0.026730</td>\n",
              "      <td>0.050314</td>\n",
              "      <td>0.000000</td>\n",
              "      <td>0.090409</td>\n",
              "      <td>0.142296</td>\n",
              "      <td>0.029874</td>\n",
              "      <td>0.017296</td>\n",
              "      <td>0.077830</td>\n",
              "      <td>0.001572</td>\n",
              "      <td>0</td>\n",
              "    </tr>\n",
              "    <tr>\n",
              "      <th>17</th>\n",
              "      <td>492d6c89b6cc044855164fc6d864ad625651fa5d</td>\n",
              "      <td>11.0</td>\n",
              "      <td>23.0</td>\n",
              "      <td>2.0</td>\n",
              "      <td>0.0</td>\n",
              "      <td>10.0</td>\n",
              "      <td>1.0</td>\n",
              "      <td>39741.0</td>\n",
              "      <td>3613.0</td>\n",
              "      <td>282</td>\n",
              "      <td>1</td>\n",
              "      <td>0.113122</td>\n",
              "      <td>0.022624</td>\n",
              "      <td>0.297134</td>\n",
              "      <td>0.182504</td>\n",
              "      <td>0.090498</td>\n",
              "      <td>0.090498</td>\n",
              "      <td>0.045249</td>\n",
              "      <td>0.022624</td>\n",
              "      <td>0.000000</td>\n",
              "      <td>0.090498</td>\n",
              "      <td>0.022624</td>\n",
              "      <td>0.000000</td>\n",
              "      <td>0.000000</td>\n",
              "      <td>0.022624</td>\n",
              "      <td>0</td>\n",
              "    </tr>\n",
              "    <tr>\n",
              "      <th>30</th>\n",
              "      <td>0f92c6c65640b629cdf1d65470cc5c75d29abd5a</td>\n",
              "      <td>9.0</td>\n",
              "      <td>23.0</td>\n",
              "      <td>273.0</td>\n",
              "      <td>7.0</td>\n",
              "      <td>2.0</td>\n",
              "      <td>0.0</td>\n",
              "      <td>26787.0</td>\n",
              "      <td>2976.0</td>\n",
              "      <td>489</td>\n",
              "      <td>1</td>\n",
              "      <td>0.229741</td>\n",
              "      <td>0.036759</td>\n",
              "      <td>0.444444</td>\n",
              "      <td>0.100251</td>\n",
              "      <td>0.031746</td>\n",
              "      <td>0.037594</td>\n",
              "      <td>0.017544</td>\n",
              "      <td>0.000835</td>\n",
              "      <td>0.008354</td>\n",
              "      <td>0.025898</td>\n",
              "      <td>0.036759</td>\n",
              "      <td>0.001671</td>\n",
              "      <td>0.005848</td>\n",
              "      <td>0.022556</td>\n",
              "      <td>0</td>\n",
              "    </tr>\n",
              "    <tr>\n",
              "      <th>...</th>\n",
              "      <td>...</td>\n",
              "      <td>...</td>\n",
              "      <td>...</td>\n",
              "      <td>...</td>\n",
              "      <td>...</td>\n",
              "      <td>...</td>\n",
              "      <td>...</td>\n",
              "      <td>...</td>\n",
              "      <td>...</td>\n",
              "      <td>...</td>\n",
              "      <td>...</td>\n",
              "      <td>...</td>\n",
              "      <td>...</td>\n",
              "      <td>...</td>\n",
              "      <td>...</td>\n",
              "      <td>...</td>\n",
              "      <td>...</td>\n",
              "      <td>...</td>\n",
              "      <td>...</td>\n",
              "      <td>...</td>\n",
              "      <td>...</td>\n",
              "      <td>...</td>\n",
              "      <td>...</td>\n",
              "      <td>...</td>\n",
              "      <td>...</td>\n",
              "      <td>...</td>\n",
              "    </tr>\n",
              "    <tr>\n",
              "      <th>10001</th>\n",
              "      <td>000000009252@oau_google</td>\n",
              "      <td>1.0</td>\n",
              "      <td>4.0</td>\n",
              "      <td>54.0</td>\n",
              "      <td>0.0</td>\n",
              "      <td>0.0</td>\n",
              "      <td>1.0</td>\n",
              "      <td>4307.0</td>\n",
              "      <td>4307.0</td>\n",
              "      <td>24</td>\n",
              "      <td>0</td>\n",
              "      <td>0.004878</td>\n",
              "      <td>0.000000</td>\n",
              "      <td>0.551220</td>\n",
              "      <td>0.292683</td>\n",
              "      <td>0.000000</td>\n",
              "      <td>0.000000</td>\n",
              "      <td>0.014634</td>\n",
              "      <td>0.000000</td>\n",
              "      <td>0.039024</td>\n",
              "      <td>0.063415</td>\n",
              "      <td>0.000000</td>\n",
              "      <td>0.009756</td>\n",
              "      <td>0.024390</td>\n",
              "      <td>0.000000</td>\n",
              "      <td>0</td>\n",
              "    </tr>\n",
              "    <tr>\n",
              "      <th>10013</th>\n",
              "      <td>c7a801689448f4740a5dd4b8175f04ffb394b2bc</td>\n",
              "      <td>1.0</td>\n",
              "      <td>1.0</td>\n",
              "      <td>37.0</td>\n",
              "      <td>0.0</td>\n",
              "      <td>0.0</td>\n",
              "      <td>1.0</td>\n",
              "      <td>490.0</td>\n",
              "      <td>490.0</td>\n",
              "      <td>36</td>\n",
              "      <td>0</td>\n",
              "      <td>0.037500</td>\n",
              "      <td>0.000000</td>\n",
              "      <td>0.418750</td>\n",
              "      <td>0.300000</td>\n",
              "      <td>0.006250</td>\n",
              "      <td>0.012500</td>\n",
              "      <td>0.087500</td>\n",
              "      <td>0.000000</td>\n",
              "      <td>0.012500</td>\n",
              "      <td>0.100000</td>\n",
              "      <td>0.000000</td>\n",
              "      <td>0.000000</td>\n",
              "      <td>0.025000</td>\n",
              "      <td>0.000000</td>\n",
              "      <td>0</td>\n",
              "    </tr>\n",
              "    <tr>\n",
              "      <th>10014</th>\n",
              "      <td>9e7c1fa4b7ab7e47902329643cbf04e366cb6a2b</td>\n",
              "      <td>1.0</td>\n",
              "      <td>2.0</td>\n",
              "      <td>28.0</td>\n",
              "      <td>0.0</td>\n",
              "      <td>0.0</td>\n",
              "      <td>1.0</td>\n",
              "      <td>2090.0</td>\n",
              "      <td>2090.0</td>\n",
              "      <td>36</td>\n",
              "      <td>0</td>\n",
              "      <td>0.027523</td>\n",
              "      <td>0.009174</td>\n",
              "      <td>0.357798</td>\n",
              "      <td>0.091743</td>\n",
              "      <td>0.000000</td>\n",
              "      <td>0.000000</td>\n",
              "      <td>0.018349</td>\n",
              "      <td>0.009174</td>\n",
              "      <td>0.220183</td>\n",
              "      <td>0.229358</td>\n",
              "      <td>0.009174</td>\n",
              "      <td>0.009174</td>\n",
              "      <td>0.009174</td>\n",
              "      <td>0.009174</td>\n",
              "      <td>0</td>\n",
              "    </tr>\n",
              "    <tr>\n",
              "      <th>10016</th>\n",
              "      <td>000000007858@oau_google</td>\n",
              "      <td>1.0</td>\n",
              "      <td>4.0</td>\n",
              "      <td>118.0</td>\n",
              "      <td>0.0</td>\n",
              "      <td>0.0</td>\n",
              "      <td>1.0</td>\n",
              "      <td>2694.0</td>\n",
              "      <td>2694.0</td>\n",
              "      <td>57</td>\n",
              "      <td>0</td>\n",
              "      <td>0.101942</td>\n",
              "      <td>0.007282</td>\n",
              "      <td>0.303398</td>\n",
              "      <td>0.114078</td>\n",
              "      <td>0.000000</td>\n",
              "      <td>0.004854</td>\n",
              "      <td>0.199029</td>\n",
              "      <td>0.000000</td>\n",
              "      <td>0.004854</td>\n",
              "      <td>0.196602</td>\n",
              "      <td>0.007282</td>\n",
              "      <td>0.026699</td>\n",
              "      <td>0.021845</td>\n",
              "      <td>0.012136</td>\n",
              "      <td>0</td>\n",
              "    </tr>\n",
              "    <tr>\n",
              "      <th>10027</th>\n",
              "      <td>d2d3a119f9cd90f0be20655693366461e0f438b0</td>\n",
              "      <td>1.0</td>\n",
              "      <td>1.0</td>\n",
              "      <td>6.0</td>\n",
              "      <td>0.0</td>\n",
              "      <td>0.0</td>\n",
              "      <td>1.0</td>\n",
              "      <td>3490.0</td>\n",
              "      <td>3490.0</td>\n",
              "      <td>36</td>\n",
              "      <td>1</td>\n",
              "      <td>0.000000</td>\n",
              "      <td>0.000000</td>\n",
              "      <td>0.484848</td>\n",
              "      <td>0.484848</td>\n",
              "      <td>0.000000</td>\n",
              "      <td>0.000000</td>\n",
              "      <td>0.000000</td>\n",
              "      <td>0.000000</td>\n",
              "      <td>0.015152</td>\n",
              "      <td>0.015152</td>\n",
              "      <td>0.000000</td>\n",
              "      <td>0.000000</td>\n",
              "      <td>0.000000</td>\n",
              "      <td>0.000000</td>\n",
              "      <td>0</td>\n",
              "    </tr>\n",
              "  </tbody>\n",
              "</table>\n",
              "<p>1946 rows × 26 columns</p>\n",
              "</div>"
            ],
            "text/plain": [
              "                                         MEM_Id  Otimes  ...     Artsy  class\n",
              "4      3983bcad22387772779b3f71f8031b6cedbcff2a    16.0  ...  0.033163      0\n",
              "12     28614cc91dfa5aa9d3509d0b8daef14554aa80ec    13.0  ...  0.048309      0\n",
              "14     26334ebb89e1bb5266d300e3a43726846ee111ea    12.0  ...  0.001572      0\n",
              "17     492d6c89b6cc044855164fc6d864ad625651fa5d    11.0  ...  0.022624      0\n",
              "30     0f92c6c65640b629cdf1d65470cc5c75d29abd5a     9.0  ...  0.022556      0\n",
              "...                                         ...     ...  ...       ...    ...\n",
              "10001                   000000009252@oau_google     1.0  ...  0.000000      0\n",
              "10013  c7a801689448f4740a5dd4b8175f04ffb394b2bc     1.0  ...  0.000000      0\n",
              "10014  9e7c1fa4b7ab7e47902329643cbf04e366cb6a2b     1.0  ...  0.009174      0\n",
              "10016                   000000007858@oau_google     1.0  ...  0.012136      0\n",
              "10027  d2d3a119f9cd90f0be20655693366461e0f438b0     1.0  ...  0.000000      0\n",
              "\n",
              "[1946 rows x 26 columns]"
            ]
          },
          "metadata": {
            "tags": []
          },
          "execution_count": 133
        }
      ]
    },
    {
      "cell_type": "markdown",
      "metadata": {
        "id": "TTVfgW5SWn4K"
      },
      "source": [
        "#K-means Clustering By Profile"
      ]
    },
    {
      "cell_type": "code",
      "metadata": {
        "colab": {
          "base_uri": "https://localhost:8080/",
          "height": 179
        },
        "id": "6Nk73RRQLAeA",
        "outputId": "58f190ff-ba31-4339-9aa2-654d2d56b577"
      },
      "source": [
        "df_p = df.loc[:,profile]\n",
        "df_p.head()"
      ],
      "execution_count": null,
      "outputs": [
        {
          "output_type": "error",
          "ename": "NameError",
          "evalue": "ignored",
          "traceback": [
            "\u001b[0;31m---------------------------------------------------------------------------\u001b[0m",
            "\u001b[0;31mNameError\u001b[0m                                 Traceback (most recent call last)",
            "\u001b[0;32m<ipython-input-1-de0138d846a0>\u001b[0m in \u001b[0;36m<module>\u001b[0;34m()\u001b[0m\n\u001b[0;32m----> 1\u001b[0;31m \u001b[0mdf_p\u001b[0m \u001b[0;34m=\u001b[0m \u001b[0mdf\u001b[0m\u001b[0;34m.\u001b[0m\u001b[0mloc\u001b[0m\u001b[0;34m[\u001b[0m\u001b[0;34m:\u001b[0m\u001b[0;34m,\u001b[0m\u001b[0mprofile\u001b[0m\u001b[0;34m]\u001b[0m\u001b[0;34m\u001b[0m\u001b[0;34m\u001b[0m\u001b[0m\n\u001b[0m\u001b[1;32m      2\u001b[0m \u001b[0mdf_p\u001b[0m\u001b[0;34m.\u001b[0m\u001b[0mhead\u001b[0m\u001b[0;34m(\u001b[0m\u001b[0;34m)\u001b[0m\u001b[0;34m\u001b[0m\u001b[0;34m\u001b[0m\u001b[0m\n",
            "\u001b[0;31mNameError\u001b[0m: name 'df' is not defined"
          ]
        }
      ]
    },
    {
      "cell_type": "code",
      "metadata": {
        "colab": {
          "base_uri": "https://localhost:8080/",
          "height": 179
        },
        "id": "gBDUbDPrTOz5",
        "outputId": "f70d4197-caa0-47fc-f178-1650fcdf0991"
      },
      "source": [
        "y_pred2 = algorithm.fit_predict(df_p)\n",
        "y_pred2"
      ],
      "execution_count": null,
      "outputs": [
        {
          "output_type": "error",
          "ename": "NameError",
          "evalue": "ignored",
          "traceback": [
            "\u001b[0;31m---------------------------------------------------------------------------\u001b[0m",
            "\u001b[0;31mNameError\u001b[0m                                 Traceback (most recent call last)",
            "\u001b[0;32m<ipython-input-2-1ecf63959cf4>\u001b[0m in \u001b[0;36m<module>\u001b[0;34m()\u001b[0m\n\u001b[0;32m----> 1\u001b[0;31m \u001b[0my_pred2\u001b[0m \u001b[0;34m=\u001b[0m \u001b[0malgorithm\u001b[0m\u001b[0;34m.\u001b[0m\u001b[0mfit_predict\u001b[0m\u001b[0;34m(\u001b[0m\u001b[0mdf_p\u001b[0m\u001b[0;34m)\u001b[0m\u001b[0;34m\u001b[0m\u001b[0;34m\u001b[0m\u001b[0m\n\u001b[0m\u001b[1;32m      2\u001b[0m \u001b[0my_pred2\u001b[0m\u001b[0;34m\u001b[0m\u001b[0;34m\u001b[0m\u001b[0m\n",
            "\u001b[0;31mNameError\u001b[0m: name 'algorithm' is not defined"
          ]
        }
      ]
    },
    {
      "cell_type": "code",
      "metadata": {
        "id": "blx4vfTaTO3J"
      },
      "source": [
        "df_p_cluster = df_p.groupby(y_pred2).mean()\n",
        "df_p_cluster"
      ],
      "execution_count": null,
      "outputs": []
    },
    {
      "cell_type": "code",
      "metadata": {
        "id": "zf-h6ZLpTO46"
      },
      "source": [
        "df_p_cluster.plot(kind = 'bar', stacked =True, figsize=(10,6),colormap='jet')\n",
        "plt.legend(bbox_to_anchor=(1.05, 1), loc='upper left', borderaxespad=0, fontsize=18)\n",
        "plt.show()"
      ],
      "execution_count": null,
      "outputs": []
    },
    {
      "cell_type": "code",
      "metadata": {
        "id": "i_b7zxLdOcV1"
      },
      "source": [
        "#顧客分析の改善点\n",
        "#ROGが外れ値になっており、POCO等と同じく取り除く必要あり。>DONE\n",
        "#年齢の記入がない人が多く、これを活かすには年齢を推測するアルゴリズムが必要かも\n",
        "#生活用品のブランドにタグが付いておらず、これらを購入した人のブランドタグが蓄積できない>すべてのブランドに付与する必要あり\n",
        "#ブランドタグシートに不具合、バイイングアイテムが7777とSourceVendorの2つに分かれてしまっていた。>発見したものは修正。\n",
        "#データベース更新するときのダウンタイムはなんとかならないか？２時間ごとに１０分ほど、数字がおかしくなるのは使いにくい。２時間更新のテーブルに対し冗長性をもたせられないか。"
      ],
      "execution_count": null,
      "outputs": []
    },
    {
      "cell_type": "markdown",
      "metadata": {
        "id": "APaSS-fdCMre"
      },
      "source": [
        "#Old codes"
      ]
    },
    {
      "cell_type": "code",
      "metadata": {
        "id": "0TlAjAhuVT6h",
        "colab": {
          "base_uri": "https://localhost:8080/",
          "height": 573
        },
        "outputId": "fc734c8b-99ca-40cb-9c69-c9e1ba973152"
      },
      "source": [
        "table = df.loc[(df['RefundStatus'].isnull()) & (df['Transfer Status']=='Trans') &(~df['Coupon.Name'].fillna('no_activity').str.contains('KOL|員工')) & ~(df['Price']==0)]\n",
        "## 排除退貨, 排員工折扣&KOL, 排除贈品\n",
        "\n",
        "table['Brand'].value_counts()\n",
        "print(\"平均單品價格(沒扣折扣卷): \"+str(table['PriceAfterDiscount'].mean()))\n",
        "print(\"平均單品價格(扣折扣卷): \"+str(table['SkuRowSumAfterDiscount'].mean()))"
      ],
      "execution_count": null,
      "outputs": [
        {
          "output_type": "error",
          "ename": "KeyError",
          "evalue": "ignored",
          "traceback": [
            "\u001b[0;31m---------------------------------------------------------------------------\u001b[0m",
            "\u001b[0;31mKeyError\u001b[0m                                  Traceback (most recent call last)",
            "\u001b[0;32m/usr/local/lib/python3.6/dist-packages/pandas/core/indexes/base.py\u001b[0m in \u001b[0;36mget_loc\u001b[0;34m(self, key, method, tolerance)\u001b[0m\n\u001b[1;32m   2897\u001b[0m             \u001b[0;32mtry\u001b[0m\u001b[0;34m:\u001b[0m\u001b[0;34m\u001b[0m\u001b[0;34m\u001b[0m\u001b[0m\n\u001b[0;32m-> 2898\u001b[0;31m                 \u001b[0;32mreturn\u001b[0m \u001b[0mself\u001b[0m\u001b[0;34m.\u001b[0m\u001b[0m_engine\u001b[0m\u001b[0;34m.\u001b[0m\u001b[0mget_loc\u001b[0m\u001b[0;34m(\u001b[0m\u001b[0mcasted_key\u001b[0m\u001b[0;34m)\u001b[0m\u001b[0;34m\u001b[0m\u001b[0;34m\u001b[0m\u001b[0m\n\u001b[0m\u001b[1;32m   2899\u001b[0m             \u001b[0;32mexcept\u001b[0m \u001b[0mKeyError\u001b[0m \u001b[0;32mas\u001b[0m \u001b[0merr\u001b[0m\u001b[0;34m:\u001b[0m\u001b[0;34m\u001b[0m\u001b[0;34m\u001b[0m\u001b[0m\n",
            "\u001b[0;32mpandas/_libs/index.pyx\u001b[0m in \u001b[0;36mpandas._libs.index.IndexEngine.get_loc\u001b[0;34m()\u001b[0m\n",
            "\u001b[0;32mpandas/_libs/index.pyx\u001b[0m in \u001b[0;36mpandas._libs.index.IndexEngine.get_loc\u001b[0;34m()\u001b[0m\n",
            "\u001b[0;32mpandas/_libs/hashtable_class_helper.pxi\u001b[0m in \u001b[0;36mpandas._libs.hashtable.PyObjectHashTable.get_item\u001b[0;34m()\u001b[0m\n",
            "\u001b[0;32mpandas/_libs/hashtable_class_helper.pxi\u001b[0m in \u001b[0;36mpandas._libs.hashtable.PyObjectHashTable.get_item\u001b[0;34m()\u001b[0m\n",
            "\u001b[0;31mKeyError\u001b[0m: 'Brand'",
            "\nThe above exception was the direct cause of the following exception:\n",
            "\u001b[0;31mKeyError\u001b[0m                                  Traceback (most recent call last)",
            "\u001b[0;32m<ipython-input-2-01bb1871fd65>\u001b[0m in \u001b[0;36m<module>\u001b[0;34m()\u001b[0m\n\u001b[1;32m      2\u001b[0m \u001b[0;31m## 排除退貨, 排員工折扣&KOL, 排除贈品\u001b[0m\u001b[0;34m\u001b[0m\u001b[0;34m\u001b[0m\u001b[0;34m\u001b[0m\u001b[0m\n\u001b[1;32m      3\u001b[0m \u001b[0;34m\u001b[0m\u001b[0m\n\u001b[0;32m----> 4\u001b[0;31m \u001b[0mtable\u001b[0m\u001b[0;34m[\u001b[0m\u001b[0;34m'Brand'\u001b[0m\u001b[0;34m]\u001b[0m\u001b[0;34m.\u001b[0m\u001b[0mvalue_counts\u001b[0m\u001b[0;34m(\u001b[0m\u001b[0;34m)\u001b[0m\u001b[0;34m\u001b[0m\u001b[0;34m\u001b[0m\u001b[0m\n\u001b[0m\u001b[1;32m      5\u001b[0m \u001b[0mprint\u001b[0m\u001b[0;34m(\u001b[0m\u001b[0;34m\"平均單品價格(沒扣折扣卷): \"\u001b[0m\u001b[0;34m+\u001b[0m\u001b[0mstr\u001b[0m\u001b[0;34m(\u001b[0m\u001b[0mtable\u001b[0m\u001b[0;34m[\u001b[0m\u001b[0;34m'PriceAfterDiscount'\u001b[0m\u001b[0;34m]\u001b[0m\u001b[0;34m.\u001b[0m\u001b[0mmean\u001b[0m\u001b[0;34m(\u001b[0m\u001b[0;34m)\u001b[0m\u001b[0;34m)\u001b[0m\u001b[0;34m)\u001b[0m\u001b[0;34m\u001b[0m\u001b[0;34m\u001b[0m\u001b[0m\n\u001b[1;32m      6\u001b[0m \u001b[0mprint\u001b[0m\u001b[0;34m(\u001b[0m\u001b[0;34m\"平均單品價格(扣折扣卷): \"\u001b[0m\u001b[0;34m+\u001b[0m\u001b[0mstr\u001b[0m\u001b[0;34m(\u001b[0m\u001b[0mtable\u001b[0m\u001b[0;34m[\u001b[0m\u001b[0;34m'SkuRowSumAfterDiscount'\u001b[0m\u001b[0;34m]\u001b[0m\u001b[0;34m.\u001b[0m\u001b[0mmean\u001b[0m\u001b[0;34m(\u001b[0m\u001b[0;34m)\u001b[0m\u001b[0;34m)\u001b[0m\u001b[0;34m)\u001b[0m\u001b[0;34m\u001b[0m\u001b[0;34m\u001b[0m\u001b[0m\n",
            "\u001b[0;32m/usr/local/lib/python3.6/dist-packages/pandas/core/frame.py\u001b[0m in \u001b[0;36m__getitem__\u001b[0;34m(self, key)\u001b[0m\n\u001b[1;32m   2904\u001b[0m             \u001b[0;32mif\u001b[0m \u001b[0mself\u001b[0m\u001b[0;34m.\u001b[0m\u001b[0mcolumns\u001b[0m\u001b[0;34m.\u001b[0m\u001b[0mnlevels\u001b[0m \u001b[0;34m>\u001b[0m \u001b[0;36m1\u001b[0m\u001b[0;34m:\u001b[0m\u001b[0;34m\u001b[0m\u001b[0;34m\u001b[0m\u001b[0m\n\u001b[1;32m   2905\u001b[0m                 \u001b[0;32mreturn\u001b[0m \u001b[0mself\u001b[0m\u001b[0;34m.\u001b[0m\u001b[0m_getitem_multilevel\u001b[0m\u001b[0;34m(\u001b[0m\u001b[0mkey\u001b[0m\u001b[0;34m)\u001b[0m\u001b[0;34m\u001b[0m\u001b[0;34m\u001b[0m\u001b[0m\n\u001b[0;32m-> 2906\u001b[0;31m             \u001b[0mindexer\u001b[0m \u001b[0;34m=\u001b[0m \u001b[0mself\u001b[0m\u001b[0;34m.\u001b[0m\u001b[0mcolumns\u001b[0m\u001b[0;34m.\u001b[0m\u001b[0mget_loc\u001b[0m\u001b[0;34m(\u001b[0m\u001b[0mkey\u001b[0m\u001b[0;34m)\u001b[0m\u001b[0;34m\u001b[0m\u001b[0;34m\u001b[0m\u001b[0m\n\u001b[0m\u001b[1;32m   2907\u001b[0m             \u001b[0;32mif\u001b[0m \u001b[0mis_integer\u001b[0m\u001b[0;34m(\u001b[0m\u001b[0mindexer\u001b[0m\u001b[0;34m)\u001b[0m\u001b[0;34m:\u001b[0m\u001b[0;34m\u001b[0m\u001b[0;34m\u001b[0m\u001b[0m\n\u001b[1;32m   2908\u001b[0m                 \u001b[0mindexer\u001b[0m \u001b[0;34m=\u001b[0m \u001b[0;34m[\u001b[0m\u001b[0mindexer\u001b[0m\u001b[0;34m]\u001b[0m\u001b[0;34m\u001b[0m\u001b[0;34m\u001b[0m\u001b[0m\n",
            "\u001b[0;32m/usr/local/lib/python3.6/dist-packages/pandas/core/indexes/base.py\u001b[0m in \u001b[0;36mget_loc\u001b[0;34m(self, key, method, tolerance)\u001b[0m\n\u001b[1;32m   2898\u001b[0m                 \u001b[0;32mreturn\u001b[0m \u001b[0mself\u001b[0m\u001b[0;34m.\u001b[0m\u001b[0m_engine\u001b[0m\u001b[0;34m.\u001b[0m\u001b[0mget_loc\u001b[0m\u001b[0;34m(\u001b[0m\u001b[0mcasted_key\u001b[0m\u001b[0;34m)\u001b[0m\u001b[0;34m\u001b[0m\u001b[0;34m\u001b[0m\u001b[0m\n\u001b[1;32m   2899\u001b[0m             \u001b[0;32mexcept\u001b[0m \u001b[0mKeyError\u001b[0m \u001b[0;32mas\u001b[0m \u001b[0merr\u001b[0m\u001b[0;34m:\u001b[0m\u001b[0;34m\u001b[0m\u001b[0;34m\u001b[0m\u001b[0m\n\u001b[0;32m-> 2900\u001b[0;31m                 \u001b[0;32mraise\u001b[0m \u001b[0mKeyError\u001b[0m\u001b[0;34m(\u001b[0m\u001b[0mkey\u001b[0m\u001b[0;34m)\u001b[0m \u001b[0;32mfrom\u001b[0m \u001b[0merr\u001b[0m\u001b[0;34m\u001b[0m\u001b[0;34m\u001b[0m\u001b[0m\n\u001b[0m\u001b[1;32m   2901\u001b[0m \u001b[0;34m\u001b[0m\u001b[0m\n\u001b[1;32m   2902\u001b[0m         \u001b[0;32mif\u001b[0m \u001b[0mtolerance\u001b[0m \u001b[0;32mis\u001b[0m \u001b[0;32mnot\u001b[0m \u001b[0;32mNone\u001b[0m\u001b[0;34m:\u001b[0m\u001b[0;34m\u001b[0m\u001b[0;34m\u001b[0m\u001b[0m\n",
            "\u001b[0;31mKeyError\u001b[0m: 'Brand'"
          ]
        }
      ]
    },
    {
      "cell_type": "code",
      "metadata": {
        "id": "yhGm0iPOVnY5",
        "colab": {
          "base_uri": "https://localhost:8080/"
        },
        "outputId": "2e77f241-dfa7-4fa9-9c53-20e4a7ca150c"
      },
      "source": [
        "srs = table.groupby(by='MemberId')['Ordid'].nunique()\n",
        "value = srs.value_counts()\n",
        "value.loc[0] = 13082 \n",
        "\n",
        "aa = value.sort_index()\n",
        "aa"
      ],
      "execution_count": null,
      "outputs": [
        {
          "output_type": "execute_result",
          "data": {
            "text/plain": [
              "0     13082\n",
              "1      1923\n",
              "2       299\n",
              "3       102\n",
              "4        34\n",
              "5        17\n",
              "6        12\n",
              "7         2\n",
              "8         2\n",
              "9         4\n",
              "12        1\n",
              "13        1\n",
              "14        1\n",
              "19        1\n",
              "Name: Ordid, dtype: int64"
            ]
          },
          "metadata": {
            "tags": []
          },
          "execution_count": 3
        }
      ]
    },
    {
      "cell_type": "code",
      "metadata": {
        "id": "UnC5Ri3cV8B9",
        "colab": {
          "base_uri": "https://localhost:8080/",
          "height": 352
        },
        "outputId": "1b38e70a-4112-481c-fc1c-4a434e7770fa"
      },
      "source": [
        "sns.countplot(srs)"
      ],
      "execution_count": null,
      "outputs": [
        {
          "output_type": "stream",
          "text": [
            "/usr/local/lib/python3.6/dist-packages/seaborn/_decorators.py:43: FutureWarning: Pass the following variable as a keyword arg: x. From version 0.12, the only valid positional argument will be `data`, and passing other arguments without an explicit keyword will result in an error or misinterpretation.\n",
            "  FutureWarning\n"
          ],
          "name": "stderr"
        },
        {
          "output_type": "execute_result",
          "data": {
            "text/plain": [
              "<matplotlib.axes._subplots.AxesSubplot at 0x7ff5f5adfa90>"
            ]
          },
          "metadata": {
            "tags": []
          },
          "execution_count": 4
        },
        {
          "output_type": "display_data",
          "data": {
            "image/png": "[encoded data removed]",
            "text/plain": [
              "<Figure size 432x288 with 1 Axes>"
            ]
          },
          "metadata": {
            "tags": [],
            "needs_background": "light"
          }
        }
      ]
    },
    {
      "cell_type": "code",
      "metadata": {
        "id": "27sA7byRYMFV",
        "colab": {
          "base_uri": "https://localhost:8080/"
        },
        "outputId": "1df9ffeb-c02f-453a-88c3-321363fb1d5a"
      },
      "source": [
        "srs.max()"
      ],
      "execution_count": null,
      "outputs": [
        {
          "output_type": "execute_result",
          "data": {
            "text/plain": [
              "19"
            ]
          },
          "metadata": {
            "tags": []
          },
          "execution_count": 5
        }
      ]
    },
    {
      "cell_type": "code",
      "metadata": {
        "id": "XUfrlXZ1dHUr",
        "colab": {
          "base_uri": "https://localhost:8080/",
          "height": 350
        },
        "outputId": "e7d059a3-9b11-44eb-dae0-607d7f880123"
      },
      "source": [
        "sns.distplot(srs)"
      ],
      "execution_count": null,
      "outputs": [
        {
          "output_type": "stream",
          "text": [
            "/usr/local/lib/python3.6/dist-packages/seaborn/distributions.py:2551: FutureWarning: `distplot` is a deprecated function and will be removed in a future version. Please adapt your code to use either `displot` (a figure-level function with similar flexibility) or `histplot` (an axes-level function for histograms).\n",
            "  warnings.warn(msg, FutureWarning)\n"
          ],
          "name": "stderr"
        },
        {
          "output_type": "execute_result",
          "data": {
            "text/plain": [
              "<matplotlib.axes._subplots.AxesSubplot at 0x7ff5e9b12f98>"
            ]
          },
          "metadata": {
            "tags": []
          },
          "execution_count": 6
        },
        {
          "output_type": "display_data",
          "data": {
            "image/png": "[encoded data removed]",
            "text/plain": [
              "<Figure size 432x288 with 1 Axes>"
            ]
          },
          "metadata": {
            "tags": [],
            "needs_background": "light"
          }
        }
      ]
    },
    {
      "cell_type": "code",
      "metadata": {
        "id": "vwuJ2fqIeVUZ",
        "colab": {
          "base_uri": "https://localhost:8080/"
        },
        "outputId": "a1cbc3dc-4695-4315-f3d5-37515c1d6da3"
      },
      "source": [
        "srs.mean()"
      ],
      "execution_count": null,
      "outputs": [
        {
          "output_type": "execute_result",
          "data": {
            "text/plain": [
              "1.3522300958732805"
            ]
          },
          "metadata": {
            "tags": []
          },
          "execution_count": 7
        }
      ]
    },
    {
      "cell_type": "code",
      "metadata": {
        "id": "BlM_Pg8peqCj",
        "colab": {
          "base_uri": "https://localhost:8080/"
        },
        "outputId": "321586c1-d89a-49bd-a803-a31a26c0cd7a"
      },
      "source": [
        "table['Ordid'].nunique()"
      ],
      "execution_count": null,
      "outputs": [
        {
          "output_type": "execute_result",
          "data": {
            "text/plain": [
              "3244"
            ]
          },
          "metadata": {
            "tags": []
          },
          "execution_count": 8
        }
      ]
    },
    {
      "cell_type": "code",
      "metadata": {
        "id": "7HMWmLLBezKP",
        "colab": {
          "base_uri": "https://localhost:8080/"
        },
        "outputId": "95f069f6-3b5a-4da9-f78e-17f8b62619e1"
      },
      "source": [
        "table['MemberId'].nunique()"
      ],
      "execution_count": null,
      "outputs": [
        {
          "output_type": "execute_result",
          "data": {
            "text/plain": [
              "2399"
            ]
          },
          "metadata": {
            "tags": []
          },
          "execution_count": 9
        }
      ]
    },
    {
      "cell_type": "code",
      "metadata": {
        "id": "uF0a3BzwHHnI",
        "colab": {
          "base_uri": "https://localhost:8080/",
          "height": 454
        },
        "outputId": "bb0cbcd4-1b61-4618-fdd5-f4d6de0eff5c"
      },
      "source": [
        "plt.figure(figsize=(7,14))\n",
        "\n",
        "plt.pie(aa, labels =aa.index,autopct=\"%.1f%%\",counterclock=False, startangle=90, wedgeprops={'linewidth': 1, 'edgecolor':\"white\"})\n",
        "plt.title('Customer Order frequency')\n",
        "plt.legend(aa,bbox_to_anchor=(1.05, 1), loc='upper left', borderaxespad=0, fontsize=18)"
      ],
      "execution_count": null,
      "outputs": [
        {
          "output_type": "execute_result",
          "data": {
            "text/plain": [
              "<matplotlib.legend.Legend at 0x7ff5e95ae278>"
            ]
          },
          "metadata": {
            "tags": []
          },
          "execution_count": 10
        },
        {
          "output_type": "display_data",
          "data": {
            "image/png": "[encoded data removed]",
            "text/plain": [
              "<Figure size 504x1008 with 1 Axes>"
            ]
          },
          "metadata": {
            "tags": []
          }
        }
      ]
    },
    {
      "cell_type": "code",
      "metadata": {
        "id": "l3sEH88eHZ6H"
      },
      "source": [],
      "execution_count": null,
      "outputs": []
    },
    {
      "cell_type": "code",
      "metadata": {
        "id": "EUO9pJDzHxh6",
        "colab": {
          "base_uri": "https://localhost:8080/"
        },
        "outputId": "e77ebf9c-3da6-46e0-af58-6dc259743cf5"
      },
      "source": [
        "srs = table.groupby(by='MemberId')['Ordid'].nunique()\n",
        "srs"
      ],
      "execution_count": null,
      "outputs": [
        {
          "output_type": "execute_result",
          "data": {
            "text/plain": [
              "MemberId\n",
              "000000000060@oau_apple                      1\n",
              "000000000071@oau_apple                      2\n",
              "000000000077@oau_apple                      1\n",
              "000000000078@oau_apple                      1\n",
              "000000000091@oau_apple                      1\n",
              "                                           ..\n",
              "ffabf9ff9c6dbde2b41f9d7fe2c01ada5410aeee    1\n",
              "ffb31935968807264122f44f1d59db5018e87755    1\n",
              "ffcbb7c7d863b1b12326a90e0103c6da484862af    6\n",
              "ffdc75aa509cdf439cf56290a28c83a58abce3ee    1\n",
              "fff8a0e665b45e633113c94c33bbf2b6fa49506f    1\n",
              "Name: Ordid, Length: 2399, dtype: int64"
            ]
          },
          "metadata": {
            "tags": []
          },
          "execution_count": 11
        }
      ]
    },
    {
      "cell_type": "code",
      "metadata": {
        "id": "_9BXX9KeRoBe",
        "colab": {
          "base_uri": "https://localhost:8080/"
        },
        "outputId": "028e02c2-4944-4256-c165-3b4b95e2f527"
      },
      "source": [
        "table.groupby(by='MemberId')['Ordid'].nunique()"
      ],
      "execution_count": null,
      "outputs": [
        {
          "output_type": "execute_result",
          "data": {
            "text/plain": [
              "MemberId\n",
              "000000000060@oau_apple                      1\n",
              "000000000071@oau_apple                      2\n",
              "000000000077@oau_apple                      1\n",
              "000000000078@oau_apple                      1\n",
              "000000000091@oau_apple                      1\n",
              "                                           ..\n",
              "ffabf9ff9c6dbde2b41f9d7fe2c01ada5410aeee    1\n",
              "ffb31935968807264122f44f1d59db5018e87755    1\n",
              "ffcbb7c7d863b1b12326a90e0103c6da484862af    6\n",
              "ffdc75aa509cdf439cf56290a28c83a58abce3ee    1\n",
              "fff8a0e665b45e633113c94c33bbf2b6fa49506f    1\n",
              "Name: Ordid, Length: 2399, dtype: int64"
            ]
          },
          "metadata": {
            "tags": []
          },
          "execution_count": 12
        }
      ]
    },
    {
      "cell_type": "code",
      "metadata": {
        "id": "PA6JtHWyR_Ea",
        "colab": {
          "base_uri": "https://localhost:8080/"
        },
        "outputId": "dfce5b7a-ecfd-4b0a-ebb3-df1c85c7fae9"
      },
      "source": [
        "onetime = srs[srs==1]\n",
        "table.dtypes"
      ],
      "execution_count": null,
      "outputs": [
        {
          "output_type": "execute_result",
          "data": {
            "text/plain": [
              "UniqueId                          object\n",
              "Ordid                             object\n",
              "No                                 int64\n",
              "RefundStatus                      object\n",
              "ProdId                            object\n",
              "ProdName                          object\n",
              "Spec                              object\n",
              "VendorId                          object\n",
              "ShipDate                          object\n",
              "ShipId                           float64\n",
              "ShipVendorId                     float64\n",
              "Price                              int64\n",
              "Qty                                int64\n",
              "Activity.Id                       object\n",
              "Activity.Name                     object\n",
              "Activity.Type                    float64\n",
              "Activity.Discount                float64\n",
              "Coupon.Id                         object\n",
              "Coupon.Name                       object\n",
              "Coupon.Discount                  float64\n",
              "SpecialPrice.Id                   object\n",
              "SpecialPrice.Discount            float64\n",
              "SkuRowSum                         object\n",
              "SkuRowSumAfterDiscount             int64\n",
              "OrderDate                 datetime64[ns]\n",
              "DataDTM                           object\n",
              "Transfer Status                   object\n",
              "Order Date                        object\n",
              "ShipStatus                        object\n",
              "ShipWay                           object\n",
              "PaymentStatus                     object\n",
              "MemberId                          object\n",
              "Order Total Amount                 int64\n",
              "Payment Method                    object\n",
              "Detail Summary                     int64\n",
              "Member Email                      object\n",
              "Member Mobile                     object\n",
              "Member Name                       object\n",
              "Member OAuthSec                  float64\n",
              "Member RegisterDtm                object\n",
              "Member Status                     object\n",
              "Member Type                       object\n",
              "CategoryID                        object\n",
              "BrandID                           object\n",
              "CountryID                         object\n",
              "VendorID                          object\n",
              "SourceVID                         object\n",
              "Cat_Level1                        object\n",
              "Cat_Level2                        object\n",
              "Cat_Level3                        object\n",
              "Brand                             object\n",
              "Country                           object\n",
              "ProductGroupID                    object\n",
              "供應商名稱                             object\n",
              "來源廠商名稱                            object\n",
              "是否為採購廠商                          float64\n",
              "會員購買日期                            object\n",
              "折扣後明細金額                            int64\n",
              "商品建立日期                           float64\n",
              "PriceAfterDiscount               float64\n",
              "dtype: object"
            ]
          },
          "metadata": {
            "tags": []
          },
          "execution_count": 13
        }
      ]
    },
    {
      "cell_type": "code",
      "metadata": {
        "id": "AkSg6a5iS_Ni",
        "colab": {
          "base_uri": "https://localhost:8080/"
        },
        "outputId": "872bdf0d-ef32-4466-af61-bfee554e3ab5"
      },
      "source": [
        "table[table.MemberId.isin(onetime.index)] ##只買過1次的客人\n",
        "one_time_customer = table[table.MemberId.isin(onetime.index)]\n",
        "Latest1c = one_time_customer[one_time_customer.OrderDate > dt.datetime(2020,8,1) ]\n",
        "Latest1c['Ordid'].nunique()"
      ],
      "execution_count": null,
      "outputs": [
        {
          "output_type": "execute_result",
          "data": {
            "text/plain": [
              "1369"
            ]
          },
          "metadata": {
            "tags": []
          },
          "execution_count": 14
        }
      ]
    },
    {
      "cell_type": "code",
      "metadata": {
        "id": "G8Br8O-9TNSN",
        "colab": {
          "base_uri": "https://localhost:8080/"
        },
        "outputId": "d54f9580-b046-44cf-b44a-6366a0d90fcf"
      },
      "source": [
        "table[table.MemberId.isin(onetime.index)] ##只買過1次的客人\n",
        "one_time_customer = table[table.MemberId.isin(onetime.index)]\n",
        "Latest1c = one_time_customer[one_time_customer.OrderDate > dt.datetime(2020,9,1) ]\n",
        "Latest1c['Ordid'].nunique()"
      ],
      "execution_count": null,
      "outputs": [
        {
          "output_type": "execute_result",
          "data": {
            "text/plain": [
              "990"
            ]
          },
          "metadata": {
            "tags": []
          },
          "execution_count": 15
        }
      ]
    },
    {
      "cell_type": "code",
      "metadata": {
        "id": "P9ELKTmiWoSM",
        "colab": {
          "base_uri": "https://localhost:8080/"
        },
        "outputId": "c6541605-8df1-4b73-dd9d-2f11015db309"
      },
      "source": [
        "table[table.MemberId.isin(onetime.index)] ##只買過1次的客人\n",
        "one_time_customer = table[table.MemberId.isin(onetime.index)]\n",
        "Latest1c = one_time_customer[one_time_customer.OrderDate > dt.datetime(2020,10,1) ]\n",
        "Latest1c['Ordid'].nunique()"
      ],
      "execution_count": null,
      "outputs": [
        {
          "output_type": "execute_result",
          "data": {
            "text/plain": [
              "737"
            ]
          },
          "metadata": {
            "tags": []
          },
          "execution_count": 16
        }
      ]
    },
    {
      "cell_type": "code",
      "metadata": {
        "id": "w5SfUiYzWpvM",
        "colab": {
          "base_uri": "https://localhost:8080/"
        },
        "outputId": "11276172-bcbc-4237-807b-ef83e816a109"
      },
      "source": [
        "table[table.MemberId.isin(onetime.index)] ##只買過1次的客人\n",
        "one_time_customer = table[table.MemberId.isin(onetime.index)]\n",
        "Latest1c = one_time_customer[one_time_customer.OrderDate > dt.datetime(2020,11,1) ]\n",
        "Latest1c['Ordid'].nunique()"
      ],
      "execution_count": null,
      "outputs": [
        {
          "output_type": "execute_result",
          "data": {
            "text/plain": [
              "544"
            ]
          },
          "metadata": {
            "tags": []
          },
          "execution_count": 17
        }
      ]
    },
    {
      "cell_type": "code",
      "metadata": {
        "id": "ROGoVGIuWrNs"
      },
      "source": [],
      "execution_count": null,
      "outputs": []
    },
    {
      "cell_type": "code",
      "metadata": {
        "id": "podYyx0vMvbQ"
      },
      "source": [],
      "execution_count": null,
      "outputs": []
    }
  ]
}